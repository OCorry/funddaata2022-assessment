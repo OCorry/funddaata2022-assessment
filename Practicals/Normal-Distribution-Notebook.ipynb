{
 "cells": [
  {
   "cell_type": "markdown",
   "id": "0380fcac",
   "metadata": {},
   "source": [
    "# <font color=darkred>The Normal Distribution</font>\n",
    "***"
   ]
  },
  {
   "cell_type": "markdown",
   "id": "5c6518c9",
   "metadata": {},
   "source": [
    "## <font color=darkred>Introduction</font>\n",
    "***\n",
    "\n",
    "The aim of this notebook is to define and explain the main concepts of the Normal Distribution and to pitch the notebook at classmates. Using research from other sources and explain concepts using plots."
   ]
  },
  {
   "cell_type": "markdown",
   "id": "d8ba4eb8",
   "metadata": {},
   "source": [
    "## <font color=darkred>Origin of the Normal Distribution</font>\n",
    "The normal distribution, is also known as as the <a href=\"https://simple.wikipedia.org/wiki/Normal_distribution\" target=\"_top\">Gaussian distribution</a><sup>1</sup> as it was discovered by a German Mathematician called Carl Friedrich Gauss.  Gauss was born in Germany in 1777 and is considered to be one of the greatest mathematicians of all time. Amongst other areas, he contributed greatly in the area of probability theory <a href=\"https://www.britannica.com/biography/Carl-Friedrich-Gauss\" target=\"_top\">Gray. J. John, (2022)</a><sup>2</sup>."
   ]
  },
  {
   "cell_type": "markdown",
   "id": "cc8f4ec7",
   "metadata": {},
   "source": [
    "<img src=\"https://cdn.britannica.com/27/190027-050-A9A35298/Carl-Friedrich-Gauss-engraving.jpg\"  width=\"300\" height=\"300\">"
   ]
  },
  {
   "cell_type": "markdown",
   "id": "904a0d7f",
   "metadata": {},
   "source": [
    "## <font color=darkred>What is a Normal Distribution?</font>"
   ]
  },
  {
   "cell_type": "markdown",
   "id": "4e09dd62",
   "metadata": {},
   "source": [
    "The normal distribution is the most common type of probability distribution in statistics. In turn, a probability distribution  is a mathematical function that establishes the probability of values of a given variable occurring <a href=\"https://www.scribbr.com/statistics/probability-distributions/\" target=\"_top\">Turney. S,(2022)</a><sup>3</sup> The normal distribution is *bell shape* in structure and is a continious distribution which means that the values can have any type of numeric value <a href=\"https://analyse-it.com/docs/user-guide/distribution/continuous/continuous-distribution\" target=\"_top\">Analyse-it, (2022).</a><sup>4</sup> whether it be an integer, or a floating point.\n",
    "\n",
    "\n",
    "The following figure sourced from <a href=\"https://www.statlect.com/probability-distributions/normal-distribution\" target=\"_top\">Taboga. M,(2019)</a><sup>5</sup> demonstrates the curve's '*Bell Shaped*' structure. \n",
    "\n",
    "<br>\n",
    "\n",
    "<img src=\"https://www.statlect.com/images/normal_distribution.png\"  width=\"500\" height=\"500\">\n",
    "\n",
    "\n"
   ]
  },
  {
   "cell_type": "markdown",
   "id": "dca13b60",
   "metadata": {},
   "source": [
    "## <font color=darkred>Characteristics of the Normal Distribution</font>\n",
    "***"
   ]
  },
  {
   "cell_type": "markdown",
   "id": "935d9de2",
   "metadata": {},
   "source": [
    "#### The Skew\n",
    "As can be seen from the above figure, the normal distribution has zero skew <a href=\"https://www.scribbr.com/statistics/skewness/\" target=\"_top\">Turney.S, (2022)</a><sup>6</sup> which means that is has a symetricial distribution centered around the mean. This structure is based on 2 parameters namely; the mean (${\\mu}$) and the standard deviation (${\\sigma}$) <a href=\"https://www.britannica.com/topic/normal-distribution\" target=\"_top\">Britannica, T. Editors of Encyclopaedia, (2022).</a><sup>7</sup>.\n",
    "\n",
    "<br>\n",
    "\n",
    "#### The mean\n",
    "The distribution has a  mean/average (${\\mu}$) of 0. The shape of the distribution means that most of the values are clustered around the mean while the less probable values lie further from the mean. The further away from the mean the values are (either to the left or the right of the mean), the less likely they are to occur.\n",
    "\n",
    "<br>\n",
    "\n",
    "#### The Standard Deviation\n",
    "The standard deviation of this distribution is (${\\sigma}$) 1. The standard deviation is a measure of how far the random values lie from the mean. The greater the standard deviation, the further away from the mean the values lie <a href=\"https://www.scribbr.com/statistics/standard-deviation/\" target=\"_top\">Bhandari. P, (2022).</a><sup>8</sup> A standard deviation of 1 on this distribution means that most of the values will lie close to the mean of 0.\n",
    "\n",
    "<br>\n",
    "\n",
    "#### The Kurtosis\n",
    "The Kurtosis of the normal distribution is a value of 3.  <a href=\"https://www.investopedia.com/terms/n/normaldistribution.asp\" target=\"_top\">Chen. J, (2022)</a><sup>9</sup>.  The kurtosis is the measure used to describe how the random values in the distribution are clustered either around the peak (mean) of the distribution or the tails of the distribution. <a href=\"https://www.simplypsychology.org/kurtosis.html\" target=\"_top\">McLeod.S ,(2019)</a><sup>10</sup>. A kurtosis of 3 in the normal distribution is a *mesokurtic* kurtosis <a href=\"https://www.scribbr.com/statistics/kurtosis/\" target=\"_top\">Turney.S ,(20122)</a><sup>11</sup>, meaning that the majority of the random values will lie somewhere between minus 3 and plus 3."
   ]
  },
  {
   "cell_type": "markdown",
   "id": "2bc25c58",
   "metadata": {},
   "source": [
    "## $$ \\frac{1}{\\sqrt{2 \\pi \\sigma^2 }} e^{-\\frac{(x - \\mu)^2}{2 \\sigma^2}} $$"
   ]
  },
  {
   "cell_type": "markdown",
   "id": "62218d7a",
   "metadata": {},
   "source": [
    "## <font color=darkred>References</font>\n",
    "***"
   ]
  },
  {
   "cell_type": "markdown",
   "id": "3e50a327",
   "metadata": {},
   "source": [
    "1. Wikipedia (2022) https://simple.wikipedia.org/wiki/Normal_distribution\n",
    "\n",
    "\n",
    "2.  Gray. J. John, (2022, September 8). Carl Friedrich Gauss. Encyclopedia Britannica. https://www.britannica.com/biography/Carl-Friedrich-Gauss\n",
    "\n",
    "\n",
    "3. Turney, S. (2022, November 10). Probability Distribution | Formula, Types, & Examples. Scribbr. Retrieved December 13, 2022, from https://www.scribbr.com/statistics/probability-distributions/\n",
    "\n",
    "\n",
    "4. Continious Distributions. Analyse-it. https://analyse-it.com/docs/user-guide/distribution/continuous/continuous-distribution\n",
    "\n",
    "\n",
    "5. Taboga, Marco (2021). \"Normal distribution\", Lectures on probability theory and mathematical statistics. Kindle Direct Publishing. Online appendix. https://www.statlect.com/probability-distributions/normal-distribution\n",
    "\n",
    "\n",
    "6. Turney.S, (2022). Skewness | Definition, Examples & Formula. Scribbr. https://www.scribbr.com/statistics/skewness/\n",
    "\n",
    "\n",
    "7. Britannica, T. Editors of Encyclopaedia (2022, December 1). normal distribution. Encyclopedia Britannica. https://www.britannica.com/topic/normal-distribution\n",
    "\n",
    "\n",
    "8. Bhandari, P. (2022, November 11). How to Calculate Standard Deviation (Guide) | Formulas & Examples. Scribbr. Retrieved December 13, 2022, from https://www.scribbr.com/statistics/standard-deviation/\n",
    "\n",
    "\n",
    "    \n",
    "9. Chen. J, (2022, July 22). Normal Distribution: What It Is, Properties, Uses, and Formula. Investopedia. https://www.investopedia.com/terms/n/normaldistribution.asp\n",
    "\n",
    "\n",
    "10. McLeod. S, (2019). What is Kurtosis. Simply Psychology. https://www.simplypsychology.org/kurtosis.html \n",
    "\n",
    "\n",
    "11. Turney, S. (2022, November 10). What Is Kurtosis? | Definition, Examples & Formula. Scribbr. Retrieved December 13, 2022, from https://www.scribbr.com/statistics/kurtosis/\n",
    "\n",
    "\n",
    "\n",
    "\n",
    "\n",
    "\n",
    "\n",
    "\n",
    "\n",
    "\n",
    "## <font color=darkred> Markdown References</font>\n",
    "\n",
    "- https://www.w3schools.io/file/markdown-super-sub-script/ - superscript\n",
    "\n",
    "\n",
    "- https://www.educative.io/answers/how-to-change-image-size-in-markdown  -image rezise"
   ]
  },
  {
   "cell_type": "code",
   "execution_count": null,
   "id": "3a2b9273",
   "metadata": {},
   "outputs": [],
   "source": []
  }
 ],
 "metadata": {
  "kernelspec": {
   "display_name": "Python 3 (ipykernel)",
   "language": "python",
   "name": "python3"
  },
  "language_info": {
   "codemirror_mode": {
    "name": "ipython",
    "version": 3
   },
   "file_extension": ".py",
   "mimetype": "text/x-python",
   "name": "python",
   "nbconvert_exporter": "python",
   "pygments_lexer": "ipython3",
   "version": "3.9.13"
  }
 },
 "nbformat": 4,
 "nbformat_minor": 5
}
