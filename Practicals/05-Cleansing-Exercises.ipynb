{
 "cells": [
  {
   "cell_type": "markdown",
   "id": "1435d49c",
   "metadata": {},
   "source": [
    "# <font color=darkred>05-Cleansing Exercises</font> \n",
    "### This Notebook contains the two exercises required for topic 5 - Cleansing\n",
    "\n",
    "\n",
    "1. [Exercise 1-Write a Python function to remove all non-alphanumeric characters from a string](#Exercise-1-Write-a-Python-function-to-remove-all-non-alphanumeric-characters-from-a-string)\n",
    "\n",
    "\n",
    "2. [Exercise 2-Adapt the Ian's code to capitalise the first letter of the iris species, using regular expressions](#Exercise-2-Adapt-Ian's-code-to-capitalise-the-first-letter-of-the-iris-species,-using-regular-expressions.)\n",
    "\n",
    "\n",
    "\n",
    "***"
   ]
  },
  {
   "cell_type": "markdown",
   "id": "b4b18e22",
   "metadata": {},
   "source": [
    "### <font color=darkred>Exercise 1-Write a Python function to remove all non-alphanumeric characters from a string</font>\n",
    "***"
   ]
  },
  {
   "cell_type": "markdown",
   "id": "b8574af2",
   "metadata": {},
   "source": [
    "### <font color=darkred>Introduction</font>\n",
    "The aim of this exercise is to create a string with alphanumeric and non-alphanumeric characters and write a Python fucntion using Regular Expressions to extract all of the non-alphanumeric characters from the string.\n",
    "***"
   ]
  },
  {
   "cell_type": "code",
   "execution_count": 2,
   "id": "208199b3",
   "metadata": {},
   "outputs": [],
   "source": [
    "# Importing the Regular expressions library/module\n",
    "import re"
   ]
  },
  {
   "cell_type": "markdown",
   "id": "da72cae6",
   "metadata": {},
   "source": [
    "Firstly, the regular expression used to keep all alphanumeric characters in the string is as follows:\n",
    "\n",
    "``\\W = '[^a-zA-Z0-9_]'``\n",
    "\n",
    "\n",
    "Using the <a href=\"https://www.pythontutorial.net/python-regex/python-regex-sub/\" target=\"_top\">regex sub()</a> function , I create a new string by replacing the matched pattern with ``''``. If I wanted spaces to replace the removed characters, I would use ``' '``. However for this exercise, the goal is to remove all characters except for alphanumeric characters so I have used ``''``."
   ]
  },
  {
   "cell_type": "code",
   "execution_count": 72,
   "id": "bba17ceb",
   "metadata": {},
   "outputs": [
    {
     "name": "stdout",
     "output_type": "stream",
     "text": [
      "159_45Hello_World346Orla1991\n"
     ]
    }
   ],
   "source": [
    "# Creating a string comprising of alphanumeric and non-alphanumeric characters.\n",
    "originalString = '15&9, _- 45:Hello/, _World346., Orla 1991.'\n",
    "\n",
    "# The pattern/regular expression to use on the above string.\n",
    "pattern =r'\\W+'\n",
    "# The new string using the re.sub() function\n",
    "newString = re.sub(pattern, '', originalString)\n",
    "print(newString)"
   ]
  },
  {
   "cell_type": "markdown",
   "id": "f9f1ead9",
   "metadata": {},
   "source": [
    "As can be seen from the``\\W`` formula above, the regular expression ``\\W`` doesn't touch the underscore as it doesn't match the underscore character. Consequently, I need a further regular expression to remove the underscore from the original string. Using the <a href=\"https://datascienceparichay.com/article/python-remove-leading-underscores-from-string/\" target=\"_top\">replace()</a> function, I replace the underscore ``_`` with ``''``."
   ]
  },
  {
   "cell_type": "code",
   "execution_count": null,
   "id": "6b10a5f6",
   "metadata": {},
   "outputs": [],
   "source": [
    "newString.replace('_', '')"
   ]
  },
  {
   "cell_type": "code",
   "execution_count": null,
   "id": "314ff0ec",
   "metadata": {},
   "outputs": [],
   "source": []
  },
  {
   "cell_type": "markdown",
   "id": "3980c4ae",
   "metadata": {},
   "source": [
    "### <font color=darkred>Exercise 2-Adapt Ian's code to capitalise the first letter of the iris species, using regular expressions.</font>\n",
    "***"
   ]
  },
  {
   "cell_type": "markdown",
   "id": "b0302f90",
   "metadata": {},
   "source": [
    "### <font color=darkred>Introduction</font>\n",
    "The aim of this exercise is to adapt code from <a href=\"https://github.com/ianmcloughlin/2223-S1-fund-data-analysis/blob/main/notebooks/05-cleansing.ipynb\" target=\"_top\">Ian McLoughlin's</a> Jupyter notebook to capatilse the first letter of the iris species, using regular expressions. \n",
    "***"
   ]
  },
  {
   "cell_type": "markdown",
   "id": "c64fd9c2",
   "metadata": {},
   "source": [
    "First, the Iris Dataset is read in using the <a href=\"https://docs.python.org/3/library/urllib.request.html\" target=\"_top\">urllib.request()</a> library to read in the URL."
   ]
  },
  {
   "cell_type": "code",
   "execution_count": 5,
   "id": "fa594126",
   "metadata": {},
   "outputs": [
    {
     "data": {
      "text/plain": [
       "['5.1,3.5,1.4,0.2,Iris-setosa',\n",
       " '4.9,3.0,1.4,0.2,Iris-setosa',\n",
       " '4.7,3.2,1.3,0.2,Iris-setosa',\n",
       " '4.6,3.1,1.5,0.2,Iris-setosa',\n",
       " '5.0,3.6,1.4,0.2,Iris-setosa',\n",
       " '5.4,3.9,1.7,0.4,Iris-setosa',\n",
       " '4.6,3.4,1.4,0.3,Iris-setosa',\n",
       " '5.0,3.4,1.5,0.2,Iris-setosa',\n",
       " '4.4,2.9,1.4,0.2,Iris-setosa',\n",
       " '4.9,3.1,1.5,0.1,Iris-setosa',\n",
       " '5.4,3.7,1.5,0.2,Iris-setosa',\n",
       " '4.8,3.4,1.6,0.2,Iris-setosa',\n",
       " '4.8,3.0,1.4,0.1,Iris-setosa',\n",
       " '4.3,3.0,1.1,0.1,Iris-setosa',\n",
       " '5.8,4.0,1.2,0.2,Iris-setosa',\n",
       " '5.7,4.4,1.5,0.4,Iris-setosa',\n",
       " '5.4,3.9,1.3,0.4,Iris-setosa',\n",
       " '5.1,3.5,1.4,0.3,Iris-setosa',\n",
       " '5.7,3.8,1.7,0.3,Iris-setosa',\n",
       " '5.1,3.8,1.5,0.3,Iris-setosa',\n",
       " '5.4,3.4,1.7,0.2,Iris-setosa',\n",
       " '5.1,3.7,1.5,0.4,Iris-setosa',\n",
       " '4.6,3.6,1.0,0.2,Iris-setosa',\n",
       " '5.1,3.3,1.7,0.5,Iris-setosa',\n",
       " '4.8,3.4,1.9,0.2,Iris-setosa',\n",
       " '5.0,3.0,1.6,0.2,Iris-setosa',\n",
       " '5.0,3.4,1.6,0.4,Iris-setosa',\n",
       " '5.2,3.5,1.5,0.2,Iris-setosa',\n",
       " '5.2,3.4,1.4,0.2,Iris-setosa',\n",
       " '4.7,3.2,1.6,0.2,Iris-setosa',\n",
       " '4.8,3.1,1.6,0.2,Iris-setosa',\n",
       " '5.4,3.4,1.5,0.4,Iris-setosa',\n",
       " '5.2,4.1,1.5,0.1,Iris-setosa',\n",
       " '5.5,4.2,1.4,0.2,Iris-setosa',\n",
       " '4.9,3.1,1.5,0.1,Iris-setosa',\n",
       " '5.0,3.2,1.2,0.2,Iris-setosa',\n",
       " '5.5,3.5,1.3,0.2,Iris-setosa',\n",
       " '4.9,3.1,1.5,0.1,Iris-setosa',\n",
       " '4.4,3.0,1.3,0.2,Iris-setosa',\n",
       " '5.1,3.4,1.5,0.2,Iris-setosa',\n",
       " '5.0,3.5,1.3,0.3,Iris-setosa',\n",
       " '4.5,2.3,1.3,0.3,Iris-setosa',\n",
       " '4.4,3.2,1.3,0.2,Iris-setosa',\n",
       " '5.0,3.5,1.6,0.6,Iris-setosa',\n",
       " '5.1,3.8,1.9,0.4,Iris-setosa',\n",
       " '4.8,3.0,1.4,0.3,Iris-setosa',\n",
       " '5.1,3.8,1.6,0.2,Iris-setosa',\n",
       " '4.6,3.2,1.4,0.2,Iris-setosa',\n",
       " '5.3,3.7,1.5,0.2,Iris-setosa',\n",
       " '5.0,3.3,1.4,0.2,Iris-setosa',\n",
       " '7.0,3.2,4.7,1.4,Iris-versicolor',\n",
       " '6.4,3.2,4.5,1.5,Iris-versicolor',\n",
       " '6.9,3.1,4.9,1.5,Iris-versicolor',\n",
       " '5.5,2.3,4.0,1.3,Iris-versicolor',\n",
       " '6.5,2.8,4.6,1.5,Iris-versicolor',\n",
       " '5.7,2.8,4.5,1.3,Iris-versicolor',\n",
       " '6.3,3.3,4.7,1.6,Iris-versicolor',\n",
       " '4.9,2.4,3.3,1.0,Iris-versicolor',\n",
       " '6.6,2.9,4.6,1.3,Iris-versicolor',\n",
       " '5.2,2.7,3.9,1.4,Iris-versicolor',\n",
       " '5.0,2.0,3.5,1.0,Iris-versicolor',\n",
       " '5.9,3.0,4.2,1.5,Iris-versicolor',\n",
       " '6.0,2.2,4.0,1.0,Iris-versicolor',\n",
       " '6.1,2.9,4.7,1.4,Iris-versicolor',\n",
       " '5.6,2.9,3.6,1.3,Iris-versicolor',\n",
       " '6.7,3.1,4.4,1.4,Iris-versicolor',\n",
       " '5.6,3.0,4.5,1.5,Iris-versicolor',\n",
       " '5.8,2.7,4.1,1.0,Iris-versicolor',\n",
       " '6.2,2.2,4.5,1.5,Iris-versicolor',\n",
       " '5.6,2.5,3.9,1.1,Iris-versicolor',\n",
       " '5.9,3.2,4.8,1.8,Iris-versicolor',\n",
       " '6.1,2.8,4.0,1.3,Iris-versicolor',\n",
       " '6.3,2.5,4.9,1.5,Iris-versicolor',\n",
       " '6.1,2.8,4.7,1.2,Iris-versicolor',\n",
       " '6.4,2.9,4.3,1.3,Iris-versicolor',\n",
       " '6.6,3.0,4.4,1.4,Iris-versicolor',\n",
       " '6.8,2.8,4.8,1.4,Iris-versicolor',\n",
       " '6.7,3.0,5.0,1.7,Iris-versicolor',\n",
       " '6.0,2.9,4.5,1.5,Iris-versicolor',\n",
       " '5.7,2.6,3.5,1.0,Iris-versicolor',\n",
       " '5.5,2.4,3.8,1.1,Iris-versicolor',\n",
       " '5.5,2.4,3.7,1.0,Iris-versicolor',\n",
       " '5.8,2.7,3.9,1.2,Iris-versicolor',\n",
       " '6.0,2.7,5.1,1.6,Iris-versicolor',\n",
       " '5.4,3.0,4.5,1.5,Iris-versicolor',\n",
       " '6.0,3.4,4.5,1.6,Iris-versicolor',\n",
       " '6.7,3.1,4.7,1.5,Iris-versicolor',\n",
       " '6.3,2.3,4.4,1.3,Iris-versicolor',\n",
       " '5.6,3.0,4.1,1.3,Iris-versicolor',\n",
       " '5.5,2.5,4.0,1.3,Iris-versicolor',\n",
       " '5.5,2.6,4.4,1.2,Iris-versicolor',\n",
       " '6.1,3.0,4.6,1.4,Iris-versicolor',\n",
       " '5.8,2.6,4.0,1.2,Iris-versicolor',\n",
       " '5.0,2.3,3.3,1.0,Iris-versicolor',\n",
       " '5.6,2.7,4.2,1.3,Iris-versicolor',\n",
       " '5.7,3.0,4.2,1.2,Iris-versicolor',\n",
       " '5.7,2.9,4.2,1.3,Iris-versicolor',\n",
       " '6.2,2.9,4.3,1.3,Iris-versicolor',\n",
       " '5.1,2.5,3.0,1.1,Iris-versicolor',\n",
       " '5.7,2.8,4.1,1.3,Iris-versicolor',\n",
       " '6.3,3.3,6.0,2.5,Iris-virginica',\n",
       " '5.8,2.7,5.1,1.9,Iris-virginica',\n",
       " '7.1,3.0,5.9,2.1,Iris-virginica',\n",
       " '6.3,2.9,5.6,1.8,Iris-virginica',\n",
       " '6.5,3.0,5.8,2.2,Iris-virginica',\n",
       " '7.6,3.0,6.6,2.1,Iris-virginica',\n",
       " '4.9,2.5,4.5,1.7,Iris-virginica',\n",
       " '7.3,2.9,6.3,1.8,Iris-virginica',\n",
       " '6.7,2.5,5.8,1.8,Iris-virginica',\n",
       " '7.2,3.6,6.1,2.5,Iris-virginica',\n",
       " '6.5,3.2,5.1,2.0,Iris-virginica',\n",
       " '6.4,2.7,5.3,1.9,Iris-virginica',\n",
       " '6.8,3.0,5.5,2.1,Iris-virginica',\n",
       " '5.7,2.5,5.0,2.0,Iris-virginica',\n",
       " '5.8,2.8,5.1,2.4,Iris-virginica',\n",
       " '6.4,3.2,5.3,2.3,Iris-virginica',\n",
       " '6.5,3.0,5.5,1.8,Iris-virginica',\n",
       " '7.7,3.8,6.7,2.2,Iris-virginica',\n",
       " '7.7,2.6,6.9,2.3,Iris-virginica',\n",
       " '6.0,2.2,5.0,1.5,Iris-virginica',\n",
       " '6.9,3.2,5.7,2.3,Iris-virginica',\n",
       " '5.6,2.8,4.9,2.0,Iris-virginica',\n",
       " '7.7,2.8,6.7,2.0,Iris-virginica',\n",
       " '6.3,2.7,4.9,1.8,Iris-virginica',\n",
       " '6.7,3.3,5.7,2.1,Iris-virginica',\n",
       " '7.2,3.2,6.0,1.8,Iris-virginica',\n",
       " '6.2,2.8,4.8,1.8,Iris-virginica',\n",
       " '6.1,3.0,4.9,1.8,Iris-virginica',\n",
       " '6.4,2.8,5.6,2.1,Iris-virginica',\n",
       " '7.2,3.0,5.8,1.6,Iris-virginica',\n",
       " '7.4,2.8,6.1,1.9,Iris-virginica',\n",
       " '7.9,3.8,6.4,2.0,Iris-virginica',\n",
       " '6.4,2.8,5.6,2.2,Iris-virginica',\n",
       " '6.3,2.8,5.1,1.5,Iris-virginica',\n",
       " '6.1,2.6,5.6,1.4,Iris-virginica',\n",
       " '7.7,3.0,6.1,2.3,Iris-virginica',\n",
       " '6.3,3.4,5.6,2.4,Iris-virginica',\n",
       " '6.4,3.1,5.5,1.8,Iris-virginica',\n",
       " '6.0,3.0,4.8,1.8,Iris-virginica',\n",
       " '6.9,3.1,5.4,2.1,Iris-virginica',\n",
       " '6.7,3.1,5.6,2.4,Iris-virginica',\n",
       " '6.9,3.1,5.1,2.3,Iris-virginica',\n",
       " '5.8,2.7,5.1,1.9,Iris-virginica',\n",
       " '6.8,3.2,5.9,2.3,Iris-virginica',\n",
       " '6.7,3.3,5.7,2.5,Iris-virginica',\n",
       " '6.7,3.0,5.2,2.3,Iris-virginica',\n",
       " '6.3,2.5,5.0,1.9,Iris-virginica',\n",
       " '6.5,3.0,5.2,2.0,Iris-virginica',\n",
       " '6.2,3.4,5.4,2.3,Iris-virginica',\n",
       " '5.9,3.0,5.1,1.8,Iris-virginica',\n",
       " '']"
      ]
     },
     "execution_count": 5,
     "metadata": {},
     "output_type": "execute_result"
    }
   ],
   "source": [
    "# https://stackoverflow.com/a/1393367\n",
    "\n",
    "import urllib.request\n",
    "\n",
    "url = r'https://archive.ics.uci.edu/ml/machine-learning-databases/iris/iris.data'\n",
    "\n",
    "iris = [line.decode('utf-8').strip() for line in urllib.request.urlopen(url)] #using .strip() to remove the new line character at the end of each line\n",
    "\n",
    "iris"
   ]
  },
  {
   "cell_type": "markdown",
   "id": "2634182b",
   "metadata": {},
   "source": [
    "Next, using the <a href=\"https://realpython.com/regex-python-part-2/\" target=\"_top\">re.compile()</a> library, I added the Regular expression ``([a-zA-Z])`` so that any letters either lower or uppercase were matched."
   ]
  },
  {
   "cell_type": "code",
   "execution_count": 9,
   "id": "63bd361f",
   "metadata": {},
   "outputs": [],
   "source": [
    "strip_iris = re.compile(r'([0-9]\\.[0-9]),([0-9]\\.[0-9]),([0-9]\\.[0-9]),([0-9]\\.[0-9]), ([a-zA-Z])')"
   ]
  },
  {
   "cell_type": "markdown",
   "id": "8876ddc4",
   "metadata": {},
   "source": [
    "I tried numerous different ways to get the the regex to do what was asked of me, one of which was to use the ``\\u`` sourced from <a href=\"https://stackoverflow.com/a/26742430\" target=\"_top\">Stackoverflow(2018)</a> but unfortunately I was unable to find a solution to the error."
   ]
  },
  {
   "cell_type": "code",
   "execution_count": 11,
   "id": "a7feb56f",
   "metadata": {},
   "outputs": [
    {
     "ename": "TypeError",
     "evalue": "'str' object cannot be interpreted as an integer",
     "output_type": "error",
     "traceback": [
      "\u001b[1;31m---------------------------------------------------------------------------\u001b[0m",
      "\u001b[1;31mTypeError\u001b[0m                                 Traceback (most recent call last)",
      "Input \u001b[1;32mIn [11]\u001b[0m, in \u001b[0;36m<cell line: 1>\u001b[1;34m()\u001b[0m\n\u001b[1;32m----> 1\u001b[0m [strip_iris\u001b[38;5;241m.\u001b[39msub(\u001b[38;5;124mr\u001b[39m\u001b[38;5;124m'\u001b[39m\u001b[38;5;124m\\\u001b[39m\u001b[38;5;124mu\u001b[39m\u001b[38;5;124m'\u001b[39m, \u001b[38;5;124m'\u001b[39m\u001b[38;5;130;01m\\2\u001b[39;00m\u001b[38;5;124m'\u001b[39m, line) \u001b[38;5;28;01mfor\u001b[39;00m line \u001b[38;5;129;01min\u001b[39;00m iris \u001b[38;5;28;01mif\u001b[39;00m line]\n",
      "Input \u001b[1;32mIn [11]\u001b[0m, in \u001b[0;36m<listcomp>\u001b[1;34m(.0)\u001b[0m\n\u001b[1;32m----> 1\u001b[0m [\u001b[43mstrip_iris\u001b[49m\u001b[38;5;241;43m.\u001b[39;49m\u001b[43msub\u001b[49m\u001b[43m(\u001b[49m\u001b[38;5;124;43mr\u001b[39;49m\u001b[38;5;124;43m'\u001b[39;49m\u001b[38;5;124;43m\\\u001b[39;49m\u001b[38;5;124;43mu\u001b[39;49m\u001b[38;5;124;43m'\u001b[39;49m\u001b[43m,\u001b[49m\u001b[43m \u001b[49m\u001b[38;5;124;43m'\u001b[39;49m\u001b[38;5;130;43;01m\\2\u001b[39;49;00m\u001b[38;5;124;43m'\u001b[39;49m\u001b[43m,\u001b[49m\u001b[43m \u001b[49m\u001b[43mline\u001b[49m\u001b[43m)\u001b[49m \u001b[38;5;28;01mfor\u001b[39;00m line \u001b[38;5;129;01min\u001b[39;00m iris \u001b[38;5;28;01mif\u001b[39;00m line]\n",
      "\u001b[1;31mTypeError\u001b[0m: 'str' object cannot be interpreted as an integer"
     ]
    }
   ],
   "source": [
    "[strip_iris.sub(r'\\u', r'\\2', line) for line in iris if line]"
   ]
  },
  {
   "cell_type": "markdown",
   "id": "535e2832",
   "metadata": {},
   "source": [
    "### <font color=darkred>References</font>\n",
    "***\n",
    "\n",
    "1. Python Tutorial. (2022). https://www.pythontutorial.net/python-regex/python-regex-sub/\n",
    "\n",
    "\n",
    "2. Data Science Parichay. Python – Remove Leading Underscores From String. https://datascienceparichay.com/article/python-remove-leading-underscores-from-string/\n",
    "\n",
    "\n",
    "3. McLoughlin. I. (2022). 2223-S1-fund-data-analysis/notebooks/05-cleansing.ipynb. https://github.com/ianmcloughlin/2223-S1-fund-data-analysis/blob/main/notebooks/05-cleansing.ipynb\n",
    "\n",
    "\n",
    "4. Python. (2023). urllib.request — Extensible library for opening URLs. https://docs.python.org/3/library/urllib.request.html \n",
    "\n",
    "\n",
    "5. Sturtz. J. (2023). Regular Expressions: Regexes in Python (Part 2). https://realpython.com/regex-python-part-2/\n",
    "\n",
    "\n",
    "6. Stackoverflow (2018). Replace uppercase with lowercase letters. https://stackoverflow.com/a/26742430"
   ]
  },
  {
   "cell_type": "code",
   "execution_count": null,
   "id": "c1df751a",
   "metadata": {},
   "outputs": [],
   "source": []
  }
 ],
 "metadata": {
  "kernelspec": {
   "display_name": "Python 3 (ipykernel)",
   "language": "python",
   "name": "python3"
  },
  "language_info": {
   "codemirror_mode": {
    "name": "ipython",
    "version": 3
   },
   "file_extension": ".py",
   "mimetype": "text/x-python",
   "name": "python",
   "nbconvert_exporter": "python",
   "pygments_lexer": "ipython3",
   "version": "3.9.13"
  }
 },
 "nbformat": 4,
 "nbformat_minor": 5
}
