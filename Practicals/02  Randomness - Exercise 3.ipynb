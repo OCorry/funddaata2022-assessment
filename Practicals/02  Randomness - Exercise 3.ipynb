{
 "cells": [
  {
   "cell_type": "markdown",
   "id": "2af6db9b",
   "metadata": {},
   "source": [
    "# <font color =darkred >Distributions</font>\n"
   ]
  },
  {
   "cell_type": "markdown",
   "id": "0b19bb6f",
   "metadata": {},
   "source": [
    "The purpose of this exercise was to plot a bar chart or histogram for three different distributions. The type of distribution determines whether is is a bar chart or a histogram that is used when plotting. If the distribution is a continuous distribution then a histogram is used and if the distribution is discrete then a bar chart is used. I used code from NumPy Documentation: https://numpy.org/doc/stable/reference/random/generator.html#distributions\n",
    "\n",
    "For this exercise, I have chosen the following three distributions:\n",
    "- Chisquare Distribution \n",
    "-\n",
    "-\n"
   ]
  },
  {
   "cell_type": "markdown",
   "id": "8fc84917",
   "metadata": {},
   "source": [
    "### <font color =darkred >Chisquare Distribution</font>"
   ]
  },
  {
   "cell_type": "code",
   "execution_count": 27,
   "id": "b48a7c10",
   "metadata": {},
   "outputs": [],
   "source": [
    "# Importing NumPy\n",
    "import numpy as np"
   ]
  },
  {
   "cell_type": "code",
   "execution_count": 198,
   "id": "2aae9c0b",
   "metadata": {
    "scrolled": true
   },
   "outputs": [],
   "source": [
    "# Random Number Generator\n",
    "#setting seed at 0 so that random numbers generated are the same each time i run the program\n",
    "rng = np.random.default_rng(0) "
   ]
  },
  {
   "cell_type": "code",
   "execution_count": 199,
   "id": "47fd340b",
   "metadata": {},
   "outputs": [],
   "source": [
    "# Storing the chisquare function as a variable 'samples'\n",
    "samples = rng.chisquare (5,10000) # 5 degrese of freedom and size 1000"
   ]
  },
  {
   "cell_type": "code",
   "execution_count": 200,
   "id": "ff9b50f8",
   "metadata": {},
   "outputs": [],
   "source": [
    "#print(samples)"
   ]
  },
  {
   "cell_type": "code",
   "execution_count": 201,
   "id": "76bd52c9",
   "metadata": {},
   "outputs": [
    {
     "data": {
      "text/plain": [
       "(array([1.441e+03, 2.826e+03, 2.322e+03, 1.582e+03, 8.980e+02, 4.810e+02,\n",
       "        2.270e+02, 1.090e+02, 7.100e+01, 2.100e+01, 1.400e+01, 5.000e+00,\n",
       "        0.000e+00, 2.000e+00, 1.000e+00]),\n",
       " array([ 0.12938573,  1.99671103,  3.86403634,  5.73136164,  7.59868695,\n",
       "         9.46601226, 11.33333756, 13.20066287, 15.06798817, 16.93531348,\n",
       "        18.80263879, 20.66996409, 22.5372894 , 24.4046147 , 26.27194001,\n",
       "        28.13926532]),\n",
       " <BarContainer object of 15 artists>)"
      ]
     },
     "execution_count": 201,
     "metadata": {},
     "output_type": "execute_result"
    },
    {
     "data": {
      "image/png": "[encoded data removed]",
      "text/plain": [
       "<Figure size 640x480 with 1 Axes>"
      ]
     },
     "metadata": {},
     "output_type": "display_data"
    }
   ],
   "source": [
    "fig, ax = plt.subplots()\n",
    "#Create a histogram\n",
    "ax.hist(samples, bins = 15)"
   ]
  },
  {
   "cell_type": "code",
   "execution_count": null,
   "id": "930e7525",
   "metadata": {},
   "outputs": [],
   "source": []
  }
 ],
 "metadata": {
  "kernelspec": {
   "display_name": "Python 3 (ipykernel)",
   "language": "python",
   "name": "python3"
  },
  "language_info": {
   "codemirror_mode": {
    "name": "ipython",
    "version": 3
   },
   "file_extension": ".py",
   "mimetype": "text/x-python",
   "name": "python",
   "nbconvert_exporter": "python",
   "pygments_lexer": "ipython3",
   "version": "3.9.13"
  }
 },
 "nbformat": 4,
 "nbformat_minor": 5
}
