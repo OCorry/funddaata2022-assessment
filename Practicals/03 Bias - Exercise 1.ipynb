{
 "cells": [
  {
   "cell_type": "markdown",
   "id": "abde36c1",
   "metadata": {},
   "source": [
    "# <font color=darkred>Bias - Exercise 1</font>\n",
    "## <font color=darkred>Give three real world examples of different types of Cognitive Bias</font>\n",
    "\n",
    "***"
   ]
  },
  {
   "cell_type": "markdown",
   "id": "dd0e3426",
   "metadata": {},
   "source": [
    "## <font color=darkred>Introduction</font>\n",
    "***\n",
    "\n",
    "\"A cognitive bias is a systematic error in thinking that occurs when people are processing and interpreting information in the world around them and affects the decisions and judgments that they make\" <a href=\"https://www.verywellmind.com/what-is-a-cognitive-bias-2794963\" target=\"_top\">Kendra Cherry, 2022<sup>1</sup></a>. \n",
    "\n",
    "\"Cognitive bias is a systematic thought process caused by the tendency of the human brain to simplify information processing through a filter of personal experience and preferences. The filtering process is a coping mechanism that enables the brain to prioritize and process large amounts of information quickly. While the mechanism is effective, its limitations can cause errors in thought\" <a href=\"https://www.techtarget.com/searchenterpriseai/definition/cognitive-bias#:~:text=Cognitive%20bias%20is%20a%20systematic,large%20amounts%20of%20information%20quickly.\" target=\"_top\">Alexander S. Gillis, 2022<sup>2</sup></a>. \n",
    "\n",
    "There are a myriad of definitions of cognitive bias to be found but the above definitions give a clear, consise explanation of how we, as human beings may be making biased decisions on a daily basis without even being conscious of it. \n",
    "\n",
    "A Journal Article by <a href=\"https://reader.elsevier.com/reader/sd/pii/S2211368117300323?token=2AC2B3168304E26148ED5913EBBD4090A91BA281B533A653A26C7717C1240C2B28FE558C84BABAAAAC4CBFDDCEEB57F0&originRegion=eu-west-1&originCreation=20221114211332.\" target=\"_top\">Kukucka et al., 2017<sup>3</sup></a> gives a very interesting account of a study done on a sample of 403 experienced forensic examiners. The results show that the participants felt that they were not influenced by or susceptible to cognitive bias, despite extensive previous research proving that cognitive bias is evident in the field. This illustrates the effect cognitive bias can have on peoples' minds and more importantly, the idea that a lot of the time, people dont even believe that they can be influenced in any way. The science of data analysis is no different, and is also susceptible to the concept of cognitve bias <a href=\"https://www.integrate.io/blog/cognitive-biases-in-data-science/.\" target=\"_top\">Abe Dearmer, 2021<sup>4</sup></a>."
   ]
  },
  {
   "cell_type": "markdown",
   "id": "ddc1ad7e",
   "metadata": {},
   "source": [
    "The purpose of this assignment is to establish three examples of different types of cognitive bias in our every day world.\n",
    "\n",
    "I have chosen the following three areas from <a href=\"https://www.datascienceassn.org/content/cognitive-bias-data-science.\" target=\"_top\">Data Science Association, 2021<sup>5</sup></a> research and give a real world example to illustrate:\n",
    "\n",
    "* Anchoring bias\n",
    "* Bandwagon effect\n",
    "* Overconfidence bias\n"
   ]
  },
  {
   "cell_type": "markdown",
   "id": "e42d4bfa",
   "metadata": {},
   "source": [
    "### <font color=darkred>Anchoring bias</font>\n",
    "***\n",
    "\n",
    "Anchoring bias occurs when an individual is influenced by something or a particular piece of information they have come by. This leads to the individual making an influenced decision that they may not have made had they not come by the particular piece of information. While the decision may turn out to be a correct decision, the influence of anchoring bias may also lead to poor decision making, <a href=\"https://www.indeed.com/career-advice/career-development/anchoring-bias\" target=\"_top\">indeed, 2022<sup>6</sup></a>. According to  <a href=\"https://www.simplypsychology.org/what-is-the-anchoring-bias.html\" target=\"_top\">Eleanor Myers, 2022<sup>7</sup></a>, anchoring bias can be influenced by factors such as one's mood, personality and experience.\n",
    "\n",
    "Achoring bias could be illustrated using the following example:\n",
    "Purchasing a new pair of jeans. An individual sees a pair of jeans at a price of €100.00 and then moves through the shop and comes across another pair of similar jeans priced at €75.00. Because they have already seen the first pair for €100.00, they see the €75.00 pair as a bargain and purchase the second pair of jeans for €75.00. Here, the decision to buy the second pair of jeans was influenced by what the individual had seen before hand. Would the indiviual have considered the second pair of jeans a bargain had they not first seen the pair for €100.00 and consequently would they have bought the second pair of jeans had they not seen the first pair? Did they even really need the pair of jeans or should they have kept their €75.00 for something else?\n"
   ]
  },
  {
   "cell_type": "markdown",
   "id": "7c3b292f",
   "metadata": {},
   "source": [
    "### <font color=darkred>Bandwagon effect</font>\n",
    "***\n",
    "\n",
    "The bandwagon effect essentially means that an individual is influenced by the actions and beliefs of others. Again, in certain instances, positive decisions can come about from the bandwagon effect but bad decision making is also associated with it. The bandwagon effect can even influence an individual to override their own beliefs and thoughts about a topic or situation <a href=\"https://www.investopedia.com/terms/b/bandwagon-effect.asp\" target=\"_top\">Investopedia<sup>8</sup></a>.\n",
    "\n",
    "A really evident example of the bandwagon effect in today's society is that of social media. Over the years, social media has become a part of most peoples daily lives. Accoring to <a href=\"https://datareportal.com/social-media-users#:~:text=Analysis%20from%20Kepios%20shows%20that,of%20the%20total%20global%20population.\" target=\"_top\"> Dataportal.com<sup>9</sup></a>, sourcing data from  in October 2022, there were 4.74 billion social media users around the world, which is about 59.3% of the world's population.\n",
    "\n",
    "Social media is influencing people every day whether it be by adverts, by *influencers*, or more closer to home, even by peoples' own peers. Individuals are influenced and convinced by what they see on social media and make decisions based on what they see and read. When they are influenced, they can overlook their own thoughts and beliefs and follow the crowd because that seems to be the right or *popular* thing to do according, to social media. "
   ]
  },
  {
   "cell_type": "markdown",
   "id": "4d97043a",
   "metadata": {},
   "source": [
    "### <font color=darkred>Overconfidence bias</font>\n",
    "***\n",
    "\n",
    "Overconfidence occurs when an individual is so confident in themselves and their experience that they ignore warning signs or even advice from others around them. This can lead to inadequate decision making, resulting in a very poor outcome.\n",
    "\n",
    "To illustrate for example, take a senior business person at a financial company who is so confident in their expertise, their work and their research into a new deal that they fail to see warning signs of potential failure in the deal. Despite figures not adding up and continious advice from work colleagues against it, the individual is determined they can make it work as they are so experienced in the area. \n",
    "\n",
    "The individual ignores all warning signs and proceeds with the deal, which after a few months runs into the ground and loses their company hundreds of thousands of euro. The individual was so engrossed in their own confidence that all of the warning signals were disrgarded by them."
   ]
  },
  {
   "cell_type": "markdown",
   "id": "6ebadb22",
   "metadata": {},
   "source": [
    "## <font color=darkred>References</font>\n",
    "***\n",
    "\n",
    "1. https://www.verywellmind.com/what-is-a-cognitive-bias-2794963\n",
    "\n",
    "\n",
    "2. https://www.techtarget.com/searchenterpriseai/definition/cognitive-bias#:~:text=Cognitive%20bias%20is%20a%20systematic,large%20amounts%20of%20information%20quickly.\n",
    "\n",
    "\n",
    "3. https://reader.elsevier.com/reader/sd/pii/S2211368117300323?token=2AC2B3168304E26148ED5913EBBD4090A91BA281B533A653A26C7717C1240C2B28FE558C84BABAAAAC4CBFDDCEEB57F0&originRegion=eu-west-1&originCreation=20221114211332\n",
    "\n",
    "\n",
    "4. https://www.integrate.io/blog/cognitive-biases-in-data-science/\n",
    "\n",
    "\n",
    "5. https://www.datascienceassn.org/content/cognitive-bias-data-science\n",
    "\n",
    "\n",
    "6. https://www.indeed.com/career-advice/career-development/anchoring-bias\n",
    "\n",
    "\n",
    "7. https://www.simplypsychology.org/what-is-the-anchoring-bias.html\n",
    "\n",
    "\n",
    "8. https://www.investopedia.com/terms/b/bandwagon-effect.asp\n",
    "\n",
    "\n",
    "9. https://datareportal.com/social-media-users#:~:text=Analysis%20from%20Kepios%20shows%20that,of%20the%20total%20global%20population."
   ]
  }
 ],
 "metadata": {
  "kernelspec": {
   "display_name": "Python 3 (ipykernel)",
   "language": "python",
   "name": "python3"
  },
  "language_info": {
   "codemirror_mode": {
    "name": "ipython",
    "version": 3
   },
   "file_extension": ".py",
   "mimetype": "text/x-python",
   "name": "python",
   "nbconvert_exporter": "python",
   "pygments_lexer": "ipython3",
   "version": "3.9.13"
  }
 },
 "nbformat": 4,
 "nbformat_minor": 5
}
