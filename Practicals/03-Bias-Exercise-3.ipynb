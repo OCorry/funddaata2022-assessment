{
 "cells": [
  {
   "cell_type": "markdown",
   "id": "44aa6c70",
   "metadata": {},
   "source": [
    "## <font color=darkred>Exercise 3-Show that the difference between the standard deviation calculations is greatest for small sample sizes</font>\n",
    "***"
   ]
  },
  {
   "cell_type": "markdown",
   "id": "d7e336bd",
   "metadata": {},
   "source": [
    "### <font color=darkred>Introduction</font>\n",
    "The purpose of this exercise is to show that the differece between the standard deviation calculations is greatest for small sample sizes. I have also demonstrated how Bessel's correction helps correct this issue.\n",
    "***"
   ]
  },
  {
   "cell_type": "markdown",
   "id": "46421801",
   "metadata": {},
   "source": [
    "My understanding for the reason why Bessle's Correction has more of an impact on smaller sample sizes than bigger samples comes from two videos by <a href=\"https://www.khanacademy.org/math/ap-statistics/summarizing-quantitative-data-ap/more-standard-deviation/v/review-and-intuition-why-we-divide-by-n-1-for-the-unbiased-sample-variance\" target=\"_top\">Khan.S, Khan Acadamey<sup>1</sup></a> and <a href=\"https://www.youtube.com/watch?v=bHVPpomkUYs\" target=\"_top\">Bessel's Correction - Intro to Descriptive Statistics (Udacity)<sup>2</sup></a>. \n",
    "\n",
    "As illustrated in the figure below sourced from <a href=\"https://www.isixsigma.com/dictionary/normal-distribution/\" target=\"_top\">isixsigma (2022)<sup>3</sup></a>, in the normal distribution, 99.73% of the values fall within 3 standard deviations from the mean. So, the smaller the sample size, the smaller the deviation is likely to be from the mean of the sample and this does not give an accurate representation of the standard deviation of the population. \n",
    "<img src=\"https://www.isixsigma.com/wp-content/uploads/2018/11/Screen-Shot-2022-06-13-at-10.20.58-AM.png\"  width=\"600\" height=\"400\">\n"
   ]
  },
  {
   "cell_type": "markdown",
   "id": "d9649b1f",
   "metadata": {},
   "source": [
    "Bessel's correction is used to correct this underestimated standard deviation. \n",
    "\n",
    "**Example 1** and **Example 2** below, show how Bessel's correction has more of an impact on smaller sample sizes than bigger sample sizes.\n",
    "Bessle's correction, $\\frac{n}{n-1}$ negates or reverses out the stage at which the mean ``np.mean`` is got on the squared values (*or variance*) ``(np.square(x-np.mean(x)))``. \n",
    "\n",
    "So when we divide by ``n-1`` (which is a smaller figure than ``n``), we get a larger number which is a more accurate representation of the population variance."
   ]
  },
  {
   "cell_type": "code",
   "execution_count": null,
   "id": "d73998b4",
   "metadata": {},
   "outputs": [],
   "source": [
    "# Importing Numpy library \n",
    "import numpy as np"
   ]
  },
  {
   "cell_type": "markdown",
   "id": "9804fd0e",
   "metadata": {},
   "source": [
    "\n",
    "### <ins>Example 1 - Using a very small sample size of 5:</ins>"
   ]
  },
  {
   "cell_type": "code",
   "execution_count": null,
   "id": "f83673a8",
   "metadata": {},
   "outputs": [],
   "source": [
    "# x is a sample of 5 values with a mean of 10 and a standard deviation of 1\n",
    "np.random.seed(12)\n",
    "x= np.random.normal(10.0, 1.0, 5,)\n",
    "x"
   ]
  },
  {
   "cell_type": "markdown",
   "id": "c809c603",
   "metadata": {},
   "source": [
    "#### Biased standard deviation "
   ]
  },
  {
   "cell_type": "code",
   "execution_count": null,
   "id": "113c579f",
   "metadata": {},
   "outputs": [],
   "source": [
    "# Biased Variance Calculation -the standard deviation in the sample is underestimated \n",
    "np.mean(np.square(x-np.mean(x)))"
   ]
  },
  {
   "cell_type": "markdown",
   "id": "07564673",
   "metadata": {},
   "source": [
    "#### Unbiased standard deviation - Using Bessel's correction"
   ]
  },
  {
   "cell_type": "code",
   "execution_count": null,
   "id": "b562cd84",
   "metadata": {},
   "outputs": [],
   "source": [
    "# Unbiased Variance Calculation (Using Bessel's Correction)-more accurate representation of the population standard deviation \n",
    "np.mean(np.square(x-np.mean(x)))* (len(x) / (len(x) - 1.0))"
   ]
  },
  {
   "cell_type": "markdown",
   "id": "97235cc7",
   "metadata": {},
   "source": [
    "### <ins>Example 2 - Using a larger sample size of 100,000:</ins>"
   ]
  },
  {
   "cell_type": "code",
   "execution_count": null,
   "id": "8e3c81e6",
   "metadata": {},
   "outputs": [],
   "source": [
    "# x is a sample of 100000 values with a mean of 10 and a standard deviation of 1\n",
    "np.random.seed(12)\n",
    "x = np.random.normal(10.0, 1.0, 100000)\n",
    "x"
   ]
  },
  {
   "cell_type": "markdown",
   "id": "19d98259",
   "metadata": {},
   "source": [
    "#### Biased standard deviation  "
   ]
  },
  {
   "cell_type": "code",
   "execution_count": null,
   "id": "beb573c5",
   "metadata": {},
   "outputs": [],
   "source": [
    "# Biased Variance Calculation -the standard deviation in the sample is underestimated \n",
    "np.mean(np.square(x-np.mean(x)))"
   ]
  },
  {
   "cell_type": "markdown",
   "id": "062c2703",
   "metadata": {},
   "source": [
    "#### Unbiased standard deviation - Using Bessel's correction"
   ]
  },
  {
   "cell_type": "code",
   "execution_count": null,
   "id": "73a1edeb",
   "metadata": {},
   "outputs": [],
   "source": [
    "# Unbiased Variance Calculation -more accurate representation of the population standard deviation \n",
    "np.mean(np.square(x-np.mean(x))) * (len(x) / (len(x) - 1.0))"
   ]
  },
  {
   "cell_type": "markdown",
   "id": "d1db843c",
   "metadata": {},
   "source": [
    "## <font color=darkred>Conclusion</font>\n",
    "***\n",
    "From the above calculations it is clear that there is more bias and consequently difference in the standard deviation in a smaller sample. This proves that the standard deviation calculation is greater for smaller sample sizes. \n",
    "\n",
    "\n",
    "\n",
    "\n",
    "| Sample Size        | Biased Std Dev      |  Unbiased Std Dev |\n",
    "|--------------------|:-------------------:|------------------:|\n",
    "| 5                  |  0.8079257996813837 |1.0099072496017296 |\n",
    "| 100,000            |  1.0099072496017296 |0.9946801050816515 |\n",
    "\n",
    "With the small sample size of 5, the *biased* standard deviation is 0.8079257996813837 and the corrected *unbiased* standard deviation is 1.0099072496017296. There is a significant difference between the *biased* calculation and the *corrected* calculation.\n",
    "\n",
    "The *biased* standard deviation of the larger sample size of 100,000 is 0.9946701582806007 and the correct *unbiased* standard deviation is 0.9946801050816515. There is a very minor difference between the *biased* calculation and the *corrected* calculation."
   ]
  },
  {
   "cell_type": "markdown",
   "id": "00965801",
   "metadata": {},
   "source": [
    "## <font color=darkred>References</font>\n",
    "***\n",
    "\n",
    "1. https://www.khanacademy.org/math/ap-statistics/summarizing-quantitative-data-ap/more-standard-deviation/v/review-and-intuition-why-we-divide-by-n-1-for-the-unbiased-sample-variance\n",
    "\n",
    "\n",
    "2. https://www.youtube.com/watch?v=bHVPpomkUYs\n",
    "\n",
    "\n",
    "3. https://www.isixsigma.com/dictionary/normal-distribution/\n",
    "\n",
    "\n",
    "4. https://www.educative.io/answers/how-to-change-image-size-in-markdown\n",
    "\n",
    "\n",
    "5. https://www.datacamp.com/tutorial/numpy-random\n",
    "\n",
    "\n",
    "6. https://csrgxtu.github.io/2015/03/20/Writing-Mathematic-Fomulars-in-Markdown/\n",
    "\n",
    "\n",
    "7. https://markdown.land/markdown-table\n",
    "\n",
    "\n",
    "8. https://datascienceparichay.com/article/insert-image-in-a-jupyter-notebook/\n",
    "\n",
    "\n",
    "9. https://tex.stackexchange.com/questions/39692/write-fraction-out-of-equation"
   ]
  },
  {
   "cell_type": "code",
   "execution_count": null,
   "id": "e599effd",
   "metadata": {},
   "outputs": [],
   "source": []
  }
 ],
 "metadata": {
  "kernelspec": {
   "display_name": "Python 3 (ipykernel)",
   "language": "python",
   "name": "python3"
  },
  "language_info": {
   "codemirror_mode": {
    "name": "ipython",
    "version": 3
   },
   "file_extension": ".py",
   "mimetype": "text/x-python",
   "name": "python",
   "nbconvert_exporter": "python",
   "pygments_lexer": "ipython3",
   "version": "3.9.13"
  }
 },
 "nbformat": 4,
 "nbformat_minor": 5
}
