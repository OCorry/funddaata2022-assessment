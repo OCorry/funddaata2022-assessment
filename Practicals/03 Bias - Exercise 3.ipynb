{
 "cells": [
  {
   "cell_type": "markdown",
   "id": "44aa6c70",
   "metadata": {},
   "source": [
    "# <font color=darkred>Bias - Exercise 3</font>\n",
    "## <font color=darkred>Show that the difference between the standard deviation calculations are greatest for small sample sizes</font>\n",
    "***"
   ]
  },
  {
   "cell_type": "markdown",
   "id": "d7e336bd",
   "metadata": {},
   "source": [
    "## <font color=darkred>Introduction</font>\n",
    "The purpose of this exercise is to show why Bessel's Correction is bigger for smaller sample sizes compared to bigger ones.\n",
    "***"
   ]
  },
  {
   "cell_type": "markdown",
   "id": "46421801",
   "metadata": {},
   "source": [
    "Examples **1** and **2** below show how Bessel's correction has more of an impact on smaller sample sizes than bigger sample sizes.\n",
    "Bessle's correction, $\\frac{n}{n-1}$ negates or reverses out the stage at which the mean ``np.mean`` is got on the squared values (*or variance*) ``(np.square(x-np.mean(x)))``.\n",
    "\n",
    "My understanding for the reason why Bessle's Correction has more of an impact on smaller sample sizes than bigger samples comes from a video by <a href=\"https://www.khanacademy.org/math/ap-statistics/summarizing-quantitative-data-ap/more-standard-deviation/v/review-and-intuition-why-we-divide-by-n-1-for-the-unbiased-sample-variance\" target=\"_top\">Khan.S, Khan Acadamey</a>. The smaller the sample size, the smaller the deviation can be from the mean of the sample so this does not give an accurate representation of the standard deviation of the population. So when we divide by ``n-1`` (which is a smaller figure than ``n``), we get a larger number which is a more accurate representation of the population variance."
   ]
  },
  {
   "cell_type": "code",
   "execution_count": 18,
   "id": "d73998b4",
   "metadata": {},
   "outputs": [],
   "source": [
    "# Importing Numpy library \n",
    "import numpy as np"
   ]
  },
  {
   "cell_type": "markdown",
   "id": "9804fd0e",
   "metadata": {},
   "source": [
    "\n",
    "### <ins>Example 1 - Using a very small sample size of 5:</ins>"
   ]
  },
  {
   "cell_type": "code",
   "execution_count": 17,
   "id": "f83673a8",
   "metadata": {},
   "outputs": [],
   "source": [
    "# x is a sample of 5 values with a mean of 10 and a standard deviation of 1\n",
    "x = np.random.normal(10.0, 1.0, 5)\n",
    "#print(x)"
   ]
  },
  {
   "cell_type": "code",
   "execution_count": 14,
   "id": "113c579f",
   "metadata": {},
   "outputs": [
    {
     "data": {
      "text/plain": [
       "1.3937825758834386"
      ]
     },
     "execution_count": 14,
     "metadata": {},
     "output_type": "execute_result"
    }
   ],
   "source": [
    "# Biased Variance Calculation -the standard deviation in the sample is underestimated \n",
    "np.mean(np.square(x-np.mean(x)))"
   ]
  },
  {
   "cell_type": "code",
   "execution_count": 15,
   "id": "b562cd84",
   "metadata": {},
   "outputs": [
    {
     "data": {
      "text/plain": [
       "1.7422282198542982"
      ]
     },
     "execution_count": 15,
     "metadata": {},
     "output_type": "execute_result"
    }
   ],
   "source": [
    "# Unbiased Variance Calculation -more accurate representation of the population standard deviation \n",
    "np.mean(np.square(x-np.mean(x)))* (len(x) / (len(x) - 1.0))"
   ]
  },
  {
   "cell_type": "markdown",
   "id": "97235cc7",
   "metadata": {},
   "source": [
    "### <ins>Example 2 - Using a larger sample size of 100,000:</ins>"
   ]
  },
  {
   "cell_type": "code",
   "execution_count": 43,
   "id": "8e3c81e6",
   "metadata": {},
   "outputs": [],
   "source": [
    "# x is a sample of 100000 values with a mean of 10 and a standard deviation of 1\n",
    "x = np.random.normal(10.0, 1.0, 100000)\n",
    "#print(x)"
   ]
  },
  {
   "cell_type": "code",
   "execution_count": 44,
   "id": "beb573c5",
   "metadata": {},
   "outputs": [
    {
     "data": {
      "text/plain": [
       "1.001478649892219"
      ]
     },
     "execution_count": 44,
     "metadata": {},
     "output_type": "execute_result"
    }
   ],
   "source": [
    "# Biased Variance Calculation -the standard deviation in the sample is underestimated \n",
    "np.mean(np.square(x-np.mean(x)))"
   ]
  },
  {
   "cell_type": "code",
   "execution_count": 45,
   "id": "73a1edeb",
   "metadata": {},
   "outputs": [
    {
     "data": {
      "text/plain": [
       "1.0014886647788668"
      ]
     },
     "execution_count": 45,
     "metadata": {},
     "output_type": "execute_result"
    }
   ],
   "source": [
    "# Unbiased Variance Calculation -more accurate representation of the population standard deviation \n",
    "np.mean(np.square(x-np.mean(x))) * (len(x) / (len(x) - 1.0))"
   ]
  },
  {
   "cell_type": "code",
   "execution_count": 46,
   "id": "52a23784",
   "metadata": {},
   "outputs": [
    {
     "data": {
      "text/plain": [
       "9.998071173612546"
      ]
     },
     "execution_count": 46,
     "metadata": {},
     "output_type": "execute_result"
    }
   ],
   "source": [
    "np.mean(x)"
   ]
  },
  {
   "cell_type": "code",
   "execution_count": null,
   "id": "db26598a",
   "metadata": {},
   "outputs": [],
   "source": []
  }
 ],
 "metadata": {
  "kernelspec": {
   "display_name": "Python 3 (ipykernel)",
   "language": "python",
   "name": "python3"
  },
  "language_info": {
   "codemirror_mode": {
    "name": "ipython",
    "version": 3
   },
   "file_extension": ".py",
   "mimetype": "text/x-python",
   "name": "python",
   "nbconvert_exporter": "python",
   "pygments_lexer": "ipython3",
   "version": "3.9.13"
  }
 },
 "nbformat": 4,
 "nbformat_minor": 5
}
