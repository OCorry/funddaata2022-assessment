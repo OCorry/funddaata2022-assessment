{
 "cells": [
  {
   "cell_type": "markdown",
   "id": "1435d49c",
   "metadata": {},
   "source": [
    "# <font color=darkred>05-Cleansing Exercises</font> \n",
    "### This Notebook contains the two exercises required for topic 5 - Cleansing\n",
    "\n",
    "\n",
    "1. [Exercise 1-Write a Python function to remove all non-alphanumeric characters from a string](#Exercise-1-Write-a-Python-function-to-remove-all-non-alphanumeric-characters-from-a-string)\n",
    "\n",
    "\n",
    "2. \n",
    "\n",
    "\n",
    "\n",
    "***"
   ]
  },
  {
   "cell_type": "markdown",
   "id": "b4b18e22",
   "metadata": {},
   "source": [
    "### <font color=darkred>Exercise 1-Write a Python function to remove all non-alphanumeric characters from a string</font>\n",
    "***"
   ]
  },
  {
   "cell_type": "markdown",
   "id": "b8574af2",
   "metadata": {},
   "source": [
    "### <font color=darkred>Introduction</font>\n",
    "The aim of this exercise is to create a string with alphanumeric and non-alphanumeric characters and write a Python fucntion using Regular Expressions to extract all of the non-alphanumeric characters from the string.\n",
    "***"
   ]
  },
  {
   "cell_type": "code",
   "execution_count": 60,
   "id": "208199b3",
   "metadata": {},
   "outputs": [],
   "source": [
    "# Importing the Regular expressions library/module\n",
    "import re"
   ]
  },
  {
   "cell_type": "markdown",
   "id": "da72cae6",
   "metadata": {},
   "source": [
    "Firstly, the regular expression used to keep all alphanumeric characters in the string is as follows:\n",
    "\n",
    "``\\W = '[^a-zA-Z0-9_]'``\n",
    "\n",
    "\n",
    "Using the <a href=\"https://www.pythontutorial.net/python-regex/python-regex-sub/\" target=\"_top\">regex sub()</a> function , I create a new string by replacing the matched pattern with ``''``. If I wanted spaces to replace the removed characters, I would use ``' '``. However for this exercise, the goal is to remove all characters except for alphanumeric characters so I have used ``''``."
   ]
  },
  {
   "cell_type": "code",
   "execution_count": 72,
   "id": "bba17ceb",
   "metadata": {},
   "outputs": [
    {
     "name": "stdout",
     "output_type": "stream",
     "text": [
      "159_45Hello_World346Orla1991\n"
     ]
    }
   ],
   "source": [
    "# Creating a string comprising of alphanumeric and non-alphanumeric characters.\n",
    "originalString = '15&9, _- 45:Hello/, _World346., Orla 1991.'\n",
    "\n",
    "# The pattern/regular expression to use on the above string.\n",
    "pattern =r'\\W+'\n",
    "# The new string using the re.sub() function\n",
    "newString = re.sub(pattern, '', originalString)\n",
    "print(newString)"
   ]
  },
  {
   "cell_type": "markdown",
   "id": "f9f1ead9",
   "metadata": {},
   "source": [
    "As can be seen from the``\\W`` formula above, the regular expression ``\\W`` doesn't touch the underscore as it doesn't match the underscore character. Consequently, I need a further regular expression to remove the underscore from the original string. Using the <a href=\"https://datascienceparichay.com/article/python-remove-leading-underscores-from-string/\" target=\"_top\">replace()</a> function, I replace the underscore ``_`` with ``''``."
   ]
  },
  {
   "cell_type": "code",
   "execution_count": null,
   "id": "6b10a5f6",
   "metadata": {},
   "outputs": [],
   "source": [
    "newString.replace('_', '')"
   ]
  },
  {
   "cell_type": "markdown",
   "id": "197755f6",
   "metadata": {},
   "source": [
    "### <font color=darkred>References</font>\n",
    "***\n",
    "\n",
    "1. Python Tutorial. (2022). https://www.pythontutorial.net/python-regex/python-regex-sub/\n",
    "\n",
    "\n",
    "2. Data Science Parichay. Python – Remove Leading Underscores From String. https://datascienceparichay.com/article/python-remove-leading-underscores-from-string/"
   ]
  },
  {
   "cell_type": "code",
   "execution_count": null,
   "id": "fa594126",
   "metadata": {},
   "outputs": [],
   "source": []
  }
 ],
 "metadata": {
  "kernelspec": {
   "display_name": "Python 3 (ipykernel)",
   "language": "python",
   "name": "python3"
  },
  "language_info": {
   "codemirror_mode": {
    "name": "ipython",
    "version": 3
   },
   "file_extension": ".py",
   "mimetype": "text/x-python",
   "name": "python",
   "nbconvert_exporter": "python",
   "pygments_lexer": "ipython3",
   "version": "3.9.13"
  }
 },
 "nbformat": 4,
 "nbformat_minor": 5
}
