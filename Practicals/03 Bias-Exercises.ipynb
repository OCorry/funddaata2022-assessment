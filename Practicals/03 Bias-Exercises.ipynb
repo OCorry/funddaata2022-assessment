{
 "cells": [
  {
   "cell_type": "markdown",
   "id": "abde36c1",
   "metadata": {},
   "source": [
    "# <font color=darkred>03-Bias - Exercises</font>\n",
    "### This notebook contains the three exercises required for topic 3 - Bias\n",
    "\n",
    "1. [Exercise 1-Give three real world examples of different types of Cognitive Bias](#Exercise-1-Give-three-real-world-examples-of-different-types-of-Cognitive-Bias)\n",
    "\n",
    "\n",
    "2. [Exercise 2-Show that while the sum (and mean) of two lists of numbers (of equal length) are equal, they can have different standard deviations](#Exercise-2-Show-that-while-the-sum-(and-mean)-of-two-lists-of-numbers-(of-equal-length)-are-equal,-they-can-have-different-standard-deviations)\n",
    "\n",
    "\n",
    "\n",
    "3. [Exercise 3-Show that the difference between the standard deviation calculations is greatest for small sample sizes](#Exercise-3-Show-that-the-difference-between-the-standard-deviation-calculations-is-greatest-for-small-sample-sizes)\n",
    "***"
   ]
  },
  {
   "cell_type": "markdown",
   "id": "f31bd8aa",
   "metadata": {},
   "source": [
    "## <font color = darkred>Exercise 1-Give three real world examples of different types of Cognitive Bias</font>\n",
    "***"
   ]
  },
  {
   "cell_type": "markdown",
   "id": "dd0e3426",
   "metadata": {},
   "source": [
    "## <font color=darkred>Introduction</font>\n",
    "***\n",
    "This exercise aims to establish three examples of different types of cognitive bias in our every day world\n",
    "\"A cognitive bias is a systematic error in thinking that occurs when people are processing and interpreting information in the world around them and affects the decisions and judgments that they make\" <a href=\"https://www.verywellmind.com/what-is-a-cognitive-bias-2794963\" target=\"_top\">Kendra Cherry, 2022<sup>1</sup></a>. \n",
    "\n",
    "\"Cognitive bias is a systematic thought process caused by the tendency of the human brain to simplify information processing through a filter of personal experience and preferences. The filtering process is a coping mechanism that enables the brain to prioritize and process large amounts of information quickly. While the mechanism is effective, its limitations can cause errors in thought\" <a href=\"https://www.techtarget.com/searchenterpriseai/definition/cognitive-bias#:~:text=Cognitive%20bias%20is%20a%20systematic,large%20amounts%20of%20information%20quickly.\" target=\"_top\">Alexander S. Gillis, 2022<sup>2</sup></a>. \n",
    "\n",
    "There are a myriad of definitions of cognitive bias to be found but the above definitions give a clear, consise explanation of how we, as human beings may be making biased decisions on a daily basis without even being conscious of it. \n",
    "\n",
    "A Journal Article by <a href=\"https://reader.elsevier.com/reader/sd/pii/S2211368117300323?token=2AC2B3168304E26148ED5913EBBD4090A91BA281B533A653A26C7717C1240C2B28FE558C84BABAAAAC4CBFDDCEEB57F0&originRegion=eu-west-1&originCreation=20221114211332.\" target=\"_top\">Kukucka et al., 2017<sup>3</sup></a> gives a very interesting account of a study done on a sample of 403 experienced forensic examiners. The results show that the participants felt that they were not influenced by or susceptible to cognitive bias, despite extensive previous research proving that cognitive bias is evident in the field. This illustrates the effect cognitive bias can have on peoples' minds and more importantly, the idea that a lot of the time, people dont even believe that they can be influenced in any way. The science of data analysis is no different, and is also susceptible to the concept of cognitve bias <a href=\"https://www.integrate.io/blog/cognitive-biases-in-data-science/.\" target=\"_top\">Abe Dearmer, 2021<sup>4</sup></a>.\n",
    "***"
   ]
  },
  {
   "cell_type": "markdown",
   "id": "ddc1ad7e",
   "metadata": {},
   "source": [
    "For this exercise, I have chosen the following three areas from <a href=\"https://www.datascienceassn.org/content/cognitive-bias-data-science.\" target=\"_top\">Data Science Association, 2021<sup>5</sup></a> research and give a real world example to illustrate:\n",
    "\n",
    "* **Anchoring bias**\n",
    "* **Bandwagon effect**\n",
    "* **Overconfidence bias**\n"
   ]
  },
  {
   "cell_type": "markdown",
   "id": "e42d4bfa",
   "metadata": {},
   "source": [
    "### <font color=darkred>Anchoring bias</font>\n",
    "***\n",
    "\n",
    "Anchoring bias occurs when an individual is influenced by something or a particular piece of information they have come by. This leads to the individual making an influenced decision that they may not have made had they not come by the particular piece of information. While the decision may turn out to be a correct decision, the influence of anchoring bias may also lead to poor decision making, <a href=\"https://www.indeed.com/career-advice/career-development/anchoring-bias\" target=\"_top\">indeed, 2022<sup>6</sup></a>. According to  <a href=\"https://www.simplypsychology.org/what-is-the-anchoring-bias.html\" target=\"_top\">Eleanor Myers, 2022<sup>7</sup></a>, anchoring bias can be influenced by factors such as one's mood, personality and experience.\n",
    "\n",
    "Achoring bias could be illustrated using the following example:\n",
    "Purchasing a new pair of jeans. An individual sees a pair of jeans at a price of €100.00 and then moves through the shop and comes across another pair of similar jeans priced at €75.00. Because they have already seen the first pair for €100.00, they see the €75.00 pair as a bargain and purchase the second pair of jeans for €75.00. Here, the decision to buy the second pair of jeans was influenced by what the individual had seen before hand. Would the indiviual have considered the second pair of jeans a bargain had they not first seen the pair for €100.00 and consequently would they have bought the second pair of jeans had they not seen the first pair? Did they even really need the pair of jeans or should they have kept their €75.00 for something else?\n"
   ]
  },
  {
   "cell_type": "markdown",
   "id": "7c3b292f",
   "metadata": {},
   "source": [
    "### <font color=darkred>Bandwagon effect</font>\n",
    "***\n",
    "\n",
    "The bandwagon effect essentially means that an individual is influenced by the actions and beliefs of others. Again, in certain instances, positive decisions can come about from the bandwagon effect but bad decision making is also associated with it. The bandwagon effect can even influence an individual to override their own beliefs and thoughts about a topic or situation <a href=\"https://www.investopedia.com/terms/b/bandwagon-effect.asp\" target=\"_top\">Investopedia<sup>8</sup></a>.\n",
    "\n",
    "A really evident example of the bandwagon effect in today's society is that of social media. Over the years, social media has become a part of most peoples daily lives. Accoring to <a href=\"https://datareportal.com/social-media-users#:~:text=Analysis%20from%20Kepios%20shows%20that,of%20the%20total%20global%20population.\" target=\"_top\"> Dataportal.com<sup>9</sup></a>, sourcing data from  in October 2022, there were 4.74 billion social media users around the world, which is about 59.3% of the world's population.\n",
    "\n",
    "Social media is influencing people every day whether it be by adverts, by *influencers*, or more closer to home, even by peoples' own peers. Individuals are influenced and convinced by what they see on social media and make decisions based on what they see and read. When they are influenced, they can overlook their own thoughts and beliefs and follow the crowd because that seems to be the right or *popular* thing to do according, to social media. "
   ]
  },
  {
   "cell_type": "markdown",
   "id": "4d97043a",
   "metadata": {},
   "source": [
    "### <font color=darkred>Overconfidence bias</font>\n",
    "***\n",
    "\n",
    "Overconfidence occurs when an individual is so confident in themselves and their experience that they ignore warning signs or even advice from others around them. This can lead to inadequate decision making, resulting in a very poor outcome.\n",
    "\n",
    "To illustrate for example, take a senior business person at a financial company who is so confident in their expertise, their work and their research into a new deal that they fail to see warning signs of potential failure in the deal. Despite figures not adding up and continious advice from work colleagues against it, the individual is determined they can make it work as they are so experienced in the area. \n",
    "\n",
    "The individual ignores all warning signs and proceeds with the deal, which after a few months runs into the ground and loses their company hundreds of thousands of euro. The individual was so engrossed in their own confidence that all of the warning signals were disrgarded by them."
   ]
  },
  {
   "cell_type": "markdown",
   "id": "6ebadb22",
   "metadata": {},
   "source": [
    "## <font color=darkred>References</font>\n",
    "***\n",
    "\n",
    "1. https://www.verywellmind.com/what-is-a-cognitive-bias-2794963\n",
    "\n",
    "\n",
    "2. https://www.techtarget.com/searchenterpriseai/definition/cognitive-bias#:~:text=Cognitive%20bias%20is%20a%20systematic,large%20amounts%20of%20information%20quickly.\n",
    "\n",
    "\n",
    "3. https://reader.elsevier.com/reader/sd/pii/S2211368117300323?token=2AC2B3168304E26148ED5913EBBD4090A91BA281B533A653A26C7717C1240C2B28FE558C84BABAAAAC4CBFDDCEEB57F0&originRegion=eu-west-1&originCreation=20221114211332\n",
    "\n",
    "\n",
    "4. https://www.integrate.io/blog/cognitive-biases-in-data-science/\n",
    "\n",
    "\n",
    "5. https://www.datascienceassn.org/content/cognitive-bias-data-science\n",
    "\n",
    "\n",
    "6. https://www.indeed.com/career-advice/career-development/anchoring-bias\n",
    "\n",
    "\n",
    "7. https://www.simplypsychology.org/what-is-the-anchoring-bias.html\n",
    "\n",
    "\n",
    "8. https://www.investopedia.com/terms/b/bandwagon-effect.asp\n",
    "\n",
    "\n",
    "9. https://datareportal.com/social-media-users#:~:text=Analysis%20from%20Kepios%20shows%20that,of%20the%20total%20global%20population."
   ]
  },
  {
   "cell_type": "markdown",
   "id": "39f474c1",
   "metadata": {},
   "source": [
    "## <font color=darkred>Exercise 2-Show that while the sum (and mean) of two lists of numbers (of equal length) are equal, they can have different standard deviations</font> "
   ]
  },
  {
   "cell_type": "markdown",
   "id": "5a3859f4",
   "metadata": {},
   "source": [
    "### <font color=darkred>Introduction</font>\n",
    "The purpose of this exercise is to demonstrate with two lists of numbers of the same length that while the sum of 2 lists of numbers (and consequently the mean of the 2 lists of numbers) are the same, the standard deviation wont necessarily be the same due to the spread of the values in each list.\n",
    "***"
   ]
  },
  {
   "cell_type": "code",
   "execution_count": 8,
   "id": "6a9cd9b0",
   "metadata": {},
   "outputs": [],
   "source": [
    "# Importing the numpy library for calculations\n",
    "import numpy as np "
   ]
  },
  {
   "cell_type": "markdown",
   "id": "1f6beb85",
   "metadata": {},
   "source": [
    "<ins>**List 1**</ins>"
   ]
  },
  {
   "cell_type": "code",
   "execution_count": 9,
   "id": "fc794978",
   "metadata": {},
   "outputs": [
    {
     "data": {
      "text/plain": [
       "[1, 1, 1, 1, 10]"
      ]
     },
     "execution_count": 9,
     "metadata": {},
     "output_type": "execute_result"
    }
   ],
   "source": [
    "# Creating list one and storing as variable 'list_1'\n",
    "list_1 = [1,1,1,1,10]\n",
    "list_1"
   ]
  },
  {
   "cell_type": "code",
   "execution_count": 10,
   "id": "5cd4bdbc",
   "metadata": {},
   "outputs": [
    {
     "data": {
      "text/plain": [
       "14"
      ]
     },
     "execution_count": 10,
     "metadata": {},
     "output_type": "execute_result"
    }
   ],
   "source": [
    "# The sum of 'list_1'\n",
    "np.sum(list_1)"
   ]
  },
  {
   "cell_type": "code",
   "execution_count": 11,
   "id": "fbe171e7",
   "metadata": {},
   "outputs": [
    {
     "data": {
      "text/plain": [
       "2.8"
      ]
     },
     "execution_count": 11,
     "metadata": {},
     "output_type": "execute_result"
    }
   ],
   "source": [
    "# The mean of 'list_1'\n",
    "np.mean(list_1)"
   ]
  },
  {
   "cell_type": "code",
   "execution_count": 12,
   "id": "900abd2f",
   "metadata": {},
   "outputs": [
    {
     "data": {
      "text/plain": [
       "3.6"
      ]
     },
     "execution_count": 12,
     "metadata": {},
     "output_type": "execute_result"
    }
   ],
   "source": [
    "# The standard deviation of 'list_1'\n",
    "np.std(list_1)"
   ]
  },
  {
   "cell_type": "markdown",
   "id": "598b92df",
   "metadata": {},
   "source": [
    "<ins>**List 2**</ins>"
   ]
  },
  {
   "cell_type": "code",
   "execution_count": 13,
   "id": "a17cb377",
   "metadata": {},
   "outputs": [
    {
     "data": {
      "text/plain": [
       "[2, 2, 3, 3, 4]"
      ]
     },
     "execution_count": 13,
     "metadata": {},
     "output_type": "execute_result"
    }
   ],
   "source": [
    "# Creating list two and storing as variable 'list_2'\n",
    "list_2 = [2,2,3,3,4]\n",
    "list_2"
   ]
  },
  {
   "cell_type": "code",
   "execution_count": 14,
   "id": "64ef28b2",
   "metadata": {},
   "outputs": [
    {
     "data": {
      "text/plain": [
       "14"
      ]
     },
     "execution_count": 14,
     "metadata": {},
     "output_type": "execute_result"
    }
   ],
   "source": [
    "# The sum of 'list_2'\n",
    "np.sum(list_2)"
   ]
  },
  {
   "cell_type": "code",
   "execution_count": 15,
   "id": "3ab582c8",
   "metadata": {},
   "outputs": [
    {
     "data": {
      "text/plain": [
       "2.8"
      ]
     },
     "execution_count": 15,
     "metadata": {},
     "output_type": "execute_result"
    }
   ],
   "source": [
    "# The mean of 'list_2'\n",
    "np.mean(list_2)"
   ]
  },
  {
   "cell_type": "code",
   "execution_count": 16,
   "id": "b5483495",
   "metadata": {},
   "outputs": [
    {
     "data": {
      "text/plain": [
       "0.7483314773547882"
      ]
     },
     "execution_count": 16,
     "metadata": {},
     "output_type": "execute_result"
    }
   ],
   "source": [
    "# The standard deviation of 'list_2'\n",
    "np.std(list_2)"
   ]
  },
  {
   "cell_type": "markdown",
   "id": "153389f9",
   "metadata": {},
   "source": [
    "### <font color=darkred>Conclusion</font>\n",
    "***\n",
    "The above calculations confirm that while a list of numbers of the same length have the same sum and consequently the same mean, the standard deviations won't be the same due to the spread of the values in each list."
   ]
  },
  {
   "cell_type": "markdown",
   "id": "13778cf2",
   "metadata": {},
   "source": [
    "## <font color=darkred>Exercise 3-Show that the difference between the standard deviation calculations is greatest for small sample sizes</font>\n",
    "***"
   ]
  },
  {
   "cell_type": "markdown",
   "id": "455b3420",
   "metadata": {},
   "source": [
    "### <font color=darkred>Introduction</font>\n",
    "The purpose of this exercise is to show that the differece between the standard deviation calculations is greatest for small sample sizes. I have also demonstrated how Bessel's correction helps correct this issue.\n",
    "***"
   ]
  },
  {
   "cell_type": "markdown",
   "id": "f7ccecff",
   "metadata": {},
   "source": [
    "My understanding for the reason why Bessle's Correction has more of an impact on smaller sample sizes than bigger samples comes from two videos by <a href=\"https://www.khanacademy.org/math/ap-statistics/summarizing-quantitative-data-ap/more-standard-deviation/v/review-and-intuition-why-we-divide-by-n-1-for-the-unbiased-sample-variance\" target=\"_top\">Khan.S, Khan Acadamey<sup>1</sup></a> and <a href=\"https://www.youtube.com/watch?v=bHVPpomkUYs\" target=\"_top\">Bessel's Correction - Intro to Descriptive Statistics (Udacity)<sup>2</sup></a>. \n",
    "\n",
    "As illustrated in the figure below sourced from <a href=\"https://www.isixsigma.com/dictionary/normal-distribution/\" target=\"_top\">isixsigma (2022)<sup>3</sup></a>, in the normal distribution, 99.73% of the values fall within 3 standard deviations from the mean. So, the smaller the sample size, the smaller the deviation is likely to be from the mean of the sample and this does not give an accurate representation of the standard deviation of the population. \n",
    "\n",
    "<img src=\"https://www.isixsigma.com/wp-content/uploads/2018/11/Screen-Shot-2022-06-13-at-10.20.58-AM.png\"  width=\"600\" height=\"400\">"
   ]
  },
  {
   "cell_type": "markdown",
   "id": "38e3a840",
   "metadata": {},
   "source": [
    "Bessel's correction is used to correct this underestimated standard deviation. \n",
    "\n",
    "**Example 1** and **Example 2** below, show how Bessel's correction has more of an impact on smaller sample sizes than bigger sample sizes.\n",
    "Bessle's correction, $\\frac{n}{n-1}$ negates or reverses out the stage at which the mean ``np.mean`` is got on the squared values (*or variance*) ``(np.square(x-np.mean(x)))``. \n",
    "\n",
    "So when we divide by ``n-1`` (which is a smaller figure than ``n``), we get a larger number which is a more accurate representation of the population variance."
   ]
  },
  {
   "cell_type": "code",
   "execution_count": 17,
   "id": "df1ff6d2",
   "metadata": {},
   "outputs": [],
   "source": [
    "# Importing Numpy library \n",
    "import numpy as np"
   ]
  },
  {
   "cell_type": "markdown",
   "id": "cb467493",
   "metadata": {},
   "source": [
    "### <ins>Example 1 - Using a very small sample size of 5:</ins>"
   ]
  },
  {
   "cell_type": "code",
   "execution_count": 18,
   "id": "dddea8a0",
   "metadata": {},
   "outputs": [
    {
     "data": {
      "text/plain": [
       "array([10.47298583,  9.31857412, 10.2424395 ,  8.29926437, 10.75314283])"
      ]
     },
     "execution_count": 18,
     "metadata": {},
     "output_type": "execute_result"
    }
   ],
   "source": [
    "# x is a sample of 5 values with a mean of 10 and a standard deviation of 1\n",
    "\n",
    "#setting a seed so the 'random' numbers are the same each time the code is run \n",
    "np.random.seed(12)\n",
    "x= np.random.normal(10.0, 1.0, 5,)\n",
    "x"
   ]
  },
  {
   "cell_type": "markdown",
   "id": "29e7f15a",
   "metadata": {},
   "source": [
    "#### Biased standard deviation "
   ]
  },
  {
   "cell_type": "code",
   "execution_count": 19,
   "id": "7c684332",
   "metadata": {},
   "outputs": [
    {
     "data": {
      "text/plain": [
       "0.8079257996813837"
      ]
     },
     "execution_count": 19,
     "metadata": {},
     "output_type": "execute_result"
    }
   ],
   "source": [
    "# Biased Variance Calculation -the standard deviation in the sample is underestimated \n",
    "np.mean(np.square(x-np.mean(x)))"
   ]
  },
  {
   "cell_type": "markdown",
   "id": "b829c4dd",
   "metadata": {},
   "source": [
    "#### Unbiased standard deviation - Using Bessel's correction"
   ]
  },
  {
   "cell_type": "code",
   "execution_count": 20,
   "id": "c5f47821",
   "metadata": {},
   "outputs": [
    {
     "data": {
      "text/plain": [
       "1.0099072496017296"
      ]
     },
     "execution_count": 20,
     "metadata": {},
     "output_type": "execute_result"
    }
   ],
   "source": [
    "# Unbiased Variance Calculation (Using Bessel's Correction)-more accurate representation of the population standard deviation \n",
    "np.mean(np.square(x-np.mean(x)))* (len(x) / (len(x) - 1.0))"
   ]
  },
  {
   "cell_type": "markdown",
   "id": "13c3b710",
   "metadata": {},
   "source": [
    "### <ins>Example 2 - Using a larger sample size of 100,000:</ins>"
   ]
  },
  {
   "cell_type": "code",
   "execution_count": 21,
   "id": "53122859",
   "metadata": {},
   "outputs": [
    {
     "data": {
      "text/plain": [
       "array([10.47298583,  9.31857412, 10.2424395 , ...,  9.79152042,\n",
       "        8.97436111,  9.83890642])"
      ]
     },
     "execution_count": 21,
     "metadata": {},
     "output_type": "execute_result"
    }
   ],
   "source": [
    "# x is a sample of 100000 values with a mean of 10 and a standard deviation of 1\n",
    "\n",
    "#setting a seed so the 'random' numbers are the same each time the code is run \n",
    "np.random.seed(12) \n",
    "x = np.random.normal(10.0, 1.0, 100000)\n",
    "x"
   ]
  },
  {
   "cell_type": "markdown",
   "id": "7980df9a",
   "metadata": {},
   "source": [
    "#### Biased standard deviation  "
   ]
  },
  {
   "cell_type": "code",
   "execution_count": 22,
   "id": "d57d53d5",
   "metadata": {},
   "outputs": [
    {
     "data": {
      "text/plain": [
       "0.9946701582806007"
      ]
     },
     "execution_count": 22,
     "metadata": {},
     "output_type": "execute_result"
    }
   ],
   "source": [
    "# Biased Variance Calculation -the standard deviation in the sample is underestimated \n",
    "np.mean(np.square(x-np.mean(x)))"
   ]
  },
  {
   "cell_type": "markdown",
   "id": "3d54c8bf",
   "metadata": {},
   "source": [
    "#### Unbiased standard deviation - Using Bessel's correction"
   ]
  },
  {
   "cell_type": "code",
   "execution_count": 23,
   "id": "7b3d3ebc",
   "metadata": {},
   "outputs": [
    {
     "data": {
      "text/plain": [
       "0.9946801050816515"
      ]
     },
     "execution_count": 23,
     "metadata": {},
     "output_type": "execute_result"
    }
   ],
   "source": [
    "# Unbiased Variance Calculation -more accurate representation of the population standard deviation \n",
    "np.mean(np.square(x-np.mean(x))) * (len(x) / (len(x) - 1.0))"
   ]
  },
  {
   "cell_type": "markdown",
   "id": "a47b9f22",
   "metadata": {},
   "source": [
    "## <font color=darkred>Conclusion</font>\n",
    "***\n",
    "From the above calculations it is clear that there is more bias and consequently difference in the standard deviation in a smaller sample. This proves that the standard deviation calculation is greater for smaller sample sizes. \n",
    "\n",
    "\n",
    "\n",
    "\n",
    "| Sample Size        | Biased Std Dev      |  Unbiased Std Dev |\n",
    "|--------------------|:-------------------:|------------------:|\n",
    "| 5                  |  0.8079257996813837 |1.0099072496017296 |\n",
    "| 100,000            |  1.0099072496017296 |0.9946801050816515 |\n",
    "\n",
    "With the small sample size of 5, the *biased* standard deviation is 0.8079257996813837 and the corrected *unbiased* standard deviation is 1.0099072496017296. There is a significant difference between the *biased* calculation and the *corrected* calculation.\n",
    "\n",
    "The *biased* standard deviation of the larger sample size of 100,000 is 0.9946701582806007 and the correct *unbiased* standard deviation is 0.9946801050816515. There is a very minor difference between the *biased* calculation and the *corrected* calculation."
   ]
  },
  {
   "cell_type": "markdown",
   "id": "c61ffd1e",
   "metadata": {},
   "source": [
    "## <font color=darkred>References</font>\n",
    "***\n",
    "\n",
    "1. https://www.khanacademy.org/math/ap-statistics/summarizing-quantitative-data-ap/more-standard-deviation/v/review-and-intuition-why-we-divide-by-n-1-for-the-unbiased-sample-variance\n",
    "\n",
    "\n",
    "2. https://www.youtube.com/watch?v=bHVPpomkUYs\n",
    "\n",
    "\n",
    "3. https://www.isixsigma.com/dictionary/normal-distribution/\n",
    "\n",
    "\n",
    "4. https://www.educative.io/answers/how-to-change-image-size-in-markdown\n",
    "\n",
    "\n",
    "5. https://www.datacamp.com/tutorial/numpy-random\n",
    "\n",
    "\n",
    "6. https://csrgxtu.github.io/2015/03/20/Writing-Mathematic-Fomulars-in-Markdown/\n",
    "\n",
    "\n",
    "7. https://markdown.land/markdown-table\n",
    "\n",
    "\n",
    "8. https://datascienceparichay.com/article/insert-image-in-a-jupyter-notebook/\n",
    "\n",
    "\n",
    "9. https://tex.stackexchange.com/questions/39692/write-fraction-out-of-equation"
   ]
  }
 ],
 "metadata": {
  "kernelspec": {
   "display_name": "Python 3 (ipykernel)",
   "language": "python",
   "name": "python3"
  },
  "language_info": {
   "codemirror_mode": {
    "name": "ipython",
    "version": 3
   },
   "file_extension": ".py",
   "mimetype": "text/x-python",
   "name": "python",
   "nbconvert_exporter": "python",
   "pygments_lexer": "ipython3",
   "version": "3.9.13"
  }
 },
 "nbformat": 4,
 "nbformat_minor": 5
}
