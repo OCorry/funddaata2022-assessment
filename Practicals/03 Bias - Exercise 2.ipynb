{
 "cells": [
  {
   "cell_type": "markdown",
   "id": "6b2ece48",
   "metadata": {},
   "source": [
    "## <font color=darkred>Exercise 2-Show that while the sum (and mean) of two lists of numbers (of equal length) are equal, they can have different  standard deviations.</font> \n",
    "***\n",
    "    \n",
    "### <font color=darkred>Introduction</font>\n",
    "The purpose of this exercise is to demonstrate with two lists of numbers of the same length that while the sum of 2 lists of numbers (and consequently the mean of the 2 lists of numbers) are the same, the standard deviation wont necessarily be the same due to the spread of the values in each list.\n",
    "***"
   ]
  },
  {
   "cell_type": "code",
   "execution_count": 1,
   "id": "020657a2",
   "metadata": {},
   "outputs": [],
   "source": [
    "# Importing the numpy library for calculations\n",
    "import numpy as np "
   ]
  },
  {
   "cell_type": "markdown",
   "id": "4073a779",
   "metadata": {},
   "source": [
    "<ins>**List 1**</ins>"
   ]
  },
  {
   "cell_type": "code",
   "execution_count": 2,
   "id": "c95e17a9",
   "metadata": {},
   "outputs": [],
   "source": [
    "# Creating list one and storing as variable 'list_1'\n",
    "list_1 = [1,1,1,1,10]"
   ]
  },
  {
   "cell_type": "code",
   "execution_count": 3,
   "id": "443b141d",
   "metadata": {},
   "outputs": [
    {
     "data": {
      "text/plain": [
       "14"
      ]
     },
     "execution_count": 3,
     "metadata": {},
     "output_type": "execute_result"
    }
   ],
   "source": [
    "# The sum of 'list_1'\n",
    "np.sum(list_1)"
   ]
  },
  {
   "cell_type": "code",
   "execution_count": 4,
   "id": "d170cbe6",
   "metadata": {},
   "outputs": [
    {
     "data": {
      "text/plain": [
       "2.8"
      ]
     },
     "execution_count": 4,
     "metadata": {},
     "output_type": "execute_result"
    }
   ],
   "source": [
    "# The mean of 'list_1'\n",
    "np.mean(list_1)"
   ]
  },
  {
   "cell_type": "code",
   "execution_count": 5,
   "id": "e4afa8eb",
   "metadata": {},
   "outputs": [
    {
     "data": {
      "text/plain": [
       "3.6"
      ]
     },
     "execution_count": 5,
     "metadata": {},
     "output_type": "execute_result"
    }
   ],
   "source": [
    "# The standard deviation of 'list_1'\n",
    "np.std(list_1)"
   ]
  },
  {
   "cell_type": "markdown",
   "id": "9023ee65",
   "metadata": {},
   "source": [
    "<ins>**List 2**</ins>"
   ]
  },
  {
   "cell_type": "code",
   "execution_count": 6,
   "id": "278dc7a4",
   "metadata": {},
   "outputs": [],
   "source": [
    "# Creating list two and storing as variable 'list_2'\n",
    "list_2 = [2,2,3,3,4]"
   ]
  },
  {
   "cell_type": "code",
   "execution_count": 7,
   "id": "bec49986",
   "metadata": {},
   "outputs": [
    {
     "data": {
      "text/plain": [
       "14"
      ]
     },
     "execution_count": 7,
     "metadata": {},
     "output_type": "execute_result"
    }
   ],
   "source": [
    "# The sum of 'list_2'\n",
    "np.sum(list_2)"
   ]
  },
  {
   "cell_type": "code",
   "execution_count": 8,
   "id": "c30ec635",
   "metadata": {},
   "outputs": [
    {
     "data": {
      "text/plain": [
       "2.8"
      ]
     },
     "execution_count": 8,
     "metadata": {},
     "output_type": "execute_result"
    }
   ],
   "source": [
    "# The mean of 'list_2'\n",
    "np.mean(list_2)"
   ]
  },
  {
   "cell_type": "code",
   "execution_count": 9,
   "id": "4962192c",
   "metadata": {},
   "outputs": [
    {
     "data": {
      "text/plain": [
       "0.7483314773547882"
      ]
     },
     "execution_count": 9,
     "metadata": {},
     "output_type": "execute_result"
    }
   ],
   "source": [
    "# The standard deviation of 'list_2'\n",
    "np.std(list_2)"
   ]
  },
  {
   "cell_type": "markdown",
   "id": "31c11432",
   "metadata": {},
   "source": [
    "### <font color=darkred>Conclusion</font>\n",
    "***\n",
    "The above calculations confirm that while a list of numbers of the same length have the same sum and consequently the same mean, the standard deviations won't be the same due to the spread of the values in each list."
   ]
  },
  {
   "cell_type": "code",
   "execution_count": null,
   "id": "8a281fac",
   "metadata": {},
   "outputs": [],
   "source": []
  }
 ],
 "metadata": {
  "kernelspec": {
   "display_name": "Python 3 (ipykernel)",
   "language": "python",
   "name": "python3"
  },
  "language_info": {
   "codemirror_mode": {
    "name": "ipython",
    "version": 3
   },
   "file_extension": ".py",
   "mimetype": "text/x-python",
   "name": "python",
   "nbconvert_exporter": "python",
   "pygments_lexer": "ipython3",
   "version": "3.9.13"
  }
 },
 "nbformat": 4,
 "nbformat_minor": 5
}
