{
 "cells": [
  {
   "cell_type": "markdown",
   "id": "0380fcac",
   "metadata": {},
   "source": [
    "# <font color=darkred>The Normal Distribution</font>\n",
    "***"
   ]
  },
  {
   "cell_type": "markdown",
   "id": "5c6518c9",
   "metadata": {},
   "source": [
    "## <font color=darkred>Introduction</font>\n",
    "***\n",
    "\n",
    "The aim of this notebook is to define and explain the main concepts of the Normal Distribution and to pitch the notebook at classmates. Using research from other sources and explain concepts using plots."
   ]
  },
  {
   "cell_type": "markdown",
   "id": "d8ba4eb8",
   "metadata": {},
   "source": [
    "## <font color=darkred>Origin of the Normal Distribution</font>\n",
    "The normal distribution, is also known as as the <a href=\"https://simple.wikipedia.org/wiki/Normal_distribution\" target=\"_top\">Gaussian distribution</a><sup>1</sup> as it was discovered by a German Mathematician called Carl Friedrich Gauss.  Gauss was born in Germany in 1777 and is considered to be one of the greatest mathematicians of all time. Amongst other areas, he contributed greatly in the area of probability theory <a href=\"https://www.britannica.com/biography/Carl-Friedrich-Gauss\" target=\"_top\">Gray. J. John, (2022)</a><sup>2</sup>."
   ]
  },
  {
   "cell_type": "markdown",
   "id": "cc8f4ec7",
   "metadata": {},
   "source": [
    "<img src=\"https://cdn.britannica.com/27/190027-050-A9A35298/Carl-Friedrich-Gauss-engraving.jpg\"  width=\"300\" height=\"300\">"
   ]
  },
  {
   "cell_type": "markdown",
   "id": "904a0d7f",
   "metadata": {},
   "source": [
    "## <font color=darkred>What is a Normal Distribution?</font>"
   ]
  },
  {
   "cell_type": "markdown",
   "id": "dd0812ba",
   "metadata": {},
   "source": []
  },
  {
   "cell_type": "markdown",
   "id": "2bc25c58",
   "metadata": {},
   "source": [
    "## $$ \\frac{1}{\\sqrt{2 \\pi \\sigma^2 }} e^{-\\frac{(x - \\mu)^2}{2 \\sigma^2}} $$"
   ]
  },
  {
   "cell_type": "markdown",
   "id": "62218d7a",
   "metadata": {},
   "source": [
    "## <font color=darkred>References</font>\n",
    "***"
   ]
  },
  {
   "cell_type": "markdown",
   "id": "3e50a327",
   "metadata": {},
   "source": [
    "1. https://simple.wikipedia.org/wiki/Normal_distribution\n",
    "\n",
    "\n",
    "2.  Gray. J. John, (2022, September 8). Carl Friedrich Gauss. Encyclopedia Britannica. \n",
    "    https://www.britannica.com/biography/Carl-Friedrich-Gauss\n",
    "\n",
    "\n",
    "\n",
    "\n",
    "\n",
    "\n",
    "\n",
    "## <font color=darkred> Markdown References</font>\n",
    "\n",
    "- https://www.w3schools.io/file/markdown-super-sub-script/ - superscript\n",
    "\n",
    "\n",
    "- https://www.educative.io/answers/how-to-change-image-size-in-markdown  -image rezise"
   ]
  },
  {
   "cell_type": "code",
   "execution_count": null,
   "id": "3a2b9273",
   "metadata": {},
   "outputs": [],
   "source": []
  }
 ],
 "metadata": {
  "kernelspec": {
   "display_name": "Python 3 (ipykernel)",
   "language": "python",
   "name": "python3"
  },
  "language_info": {
   "codemirror_mode": {
    "name": "ipython",
    "version": 3
   },
   "file_extension": ".py",
   "mimetype": "text/x-python",
   "name": "python",
   "nbconvert_exporter": "python",
   "pygments_lexer": "ipython3",
   "version": "3.9.13"
  }
 },
 "nbformat": 4,
 "nbformat_minor": 5
}
