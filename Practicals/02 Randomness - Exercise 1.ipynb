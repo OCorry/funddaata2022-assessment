{
 "cells": [
  {
   "cell_type": "markdown",
   "id": "d05616ae",
   "metadata": {},
   "source": [
    "\n",
    "## <p style=\"text-align: center;\">Randomness-Exercise 1 \n",
    "\n",
    "\n",
    "From the lecture videos on this topic we found that dividing the product of (5 * 4 * 3 * 2 * 1) into the product of (10 * 9 * 8 * 7 * 6) will give a positive whole number. <p>The purpose of this exercise was to establish if the product of (4 * 3 * 2 * 1) will divide evenly into the product of (10 * 9 * 8 * 7); the product of (3 * 2 * 1) divide evenly into (10 * 9 * 8) and lastly if the product of (2 * 1) will divide evenly into (10 * 9).<p/>\n",
    "<p>All of the above calculations will give a positive whole number and my understanding of the reasoning behind the above is as follows and I will use ‘heads’ to demonstrate.<p/>\n",
    "<p>Firstly, when we are listing all of the possible placeholders for the first two heads (10 * 9), each of the outcomes will be duplicated. To get the number of unique outcomes, just once, we need to divide the total number of outcomes by two. As there is double the number of outcomes than what we want then the total number of outcomes will obviously divide by two evenly (90 total outcomes divided by the 2 duplicates of each outcome).<p/>\n",
    "<p>Next, to find possible placeholders for three heads (10 * 9 * 8), each of the possible outcomes will be printed 6 times (2 * 3).  Again, this means that there are 6 times the number of outcomes than we actually want, so 6 will divide evenly into the total number of outcomes (720 total outcomes divided by the 6 duplicates of each outcome).<p/> \n",
    "<p>To find the possible placeholders for four heads (10*9*8*7), each outcome will be printed 24 times (2 * 3 * 4). As we have 24 times the number of outcomes than we want then 24 will divide evenly into the total number of outcomes printed to get the number of unique outcomes (5,040 total outcomes divided by the 24 duplicates of each outcome).<p/>\n",
    "<p>Finally to find the possible placeholders for 5 heads (10*9*8*7*6) each outcome is counted and printed 120 times (2 * 3 * 4 * 5). Again, as there are 120 times more outcomes than what we want, (because we don’t want any duplicates), then the 120duplicates will divide evenly into the 30,240 total outcomes.<p/>\n",
    "<p>The formula for above is that we are always dividing the total number of outcomes by the number of duplicates generated, so they will always divide evenly into each other and will be a positive whole number.<p>\n",
    "\n"
   ]
  },
  {
   "cell_type": "code",
   "execution_count": null,
   "id": "ed0434a0",
   "metadata": {},
   "outputs": [],
   "source": []
  }
 ],
 "metadata": {
  "kernelspec": {
   "display_name": "Python 3 (ipykernel)",
   "language": "python",
   "name": "python3"
  },
  "language_info": {
   "codemirror_mode": {
    "name": "ipython",
    "version": 3
   },
   "file_extension": ".py",
   "mimetype": "text/x-python",
   "name": "python",
   "nbconvert_exporter": "python",
   "pygments_lexer": "ipython3",
   "version": "3.9.13"
  }
 },
 "nbformat": 4,
 "nbformat_minor": 5
}
