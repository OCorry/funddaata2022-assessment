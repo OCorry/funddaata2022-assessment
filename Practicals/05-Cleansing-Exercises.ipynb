{
 "cells": [
  {
   "cell_type": "markdown",
   "id": "1435d49c",
   "metadata": {},
   "source": [
    "# <font color=darkred>05-Cleansing Exercises</font> \n",
    "### This Notebook contains the two exercises required for topic 5 - Cleansing\n",
    "\n",
    "\n",
    "1. [Exercise 1-Write a Python function to remove all non-alphanumeric characters from a string](#Exercise-1-Write-a-Python-function-to-remove-all-non-alphanumeric-characters-from-a-string)\n",
    "\n",
    "\n",
    "2. [Exercise 2-Adapt the Ian's code to capitalise the first letter of the iris species, using regular expressions](#Exercise-2-Adapt-Ian's-code-to-capitalise-the-first-letter-of-the-iris-species,-using-regular-expressions.)\n",
    "\n",
    "\n",
    "\n",
    "***"
   ]
  },
  {
   "cell_type": "markdown",
   "id": "b4b18e22",
   "metadata": {},
   "source": [
    "### <font color=darkred>Exercise 1-Write a Python function to remove all non-alphanumeric characters from a string</font>\n",
    "***"
   ]
  },
  {
   "cell_type": "markdown",
   "id": "b8574af2",
   "metadata": {},
   "source": [
    "### <font color=darkred>Introduction</font>\n",
    "The aim of this exercise is to create a string with alphanumeric and non-alphanumeric characters and write a Python fucntion using Regular Expressions to extract all of the non-alphanumeric characters from the string.\n",
    "***"
   ]
  },
  {
   "cell_type": "code",
   "execution_count": 4,
   "id": "208199b3",
   "metadata": {},
   "outputs": [],
   "source": [
    "# Importing the Regular expressions library/module\n",
    "import re"
   ]
  },
  {
   "cell_type": "markdown",
   "id": "da72cae6",
   "metadata": {},
   "source": [
    "Firstly, the regular expression used to keep all alphanumeric characters in the string is as follows:\n",
    "\n",
    "``\\W = '[^a-zA-Z0-9_]'``\n",
    "\n",
    "\n",
    "Using the <a href=\"https://www.pythontutorial.net/python-regex/python-regex-sub/\" target=\"_top\">regex sub()</a> function , I create a new string by replacing the matched pattern with ``''``. If I wanted spaces to replace the removed characters, I would use ``' '``. However for this exercise, the goal is to remove all characters except for alphanumeric characters so I have used ``''``."
   ]
  },
  {
   "cell_type": "code",
   "execution_count": 72,
   "id": "bba17ceb",
   "metadata": {},
   "outputs": [
    {
     "name": "stdout",
     "output_type": "stream",
     "text": [
      "159_45Hello_World346Orla1991\n"
     ]
    }
   ],
   "source": [
    "# Creating a string comprising of alphanumeric and non-alphanumeric characters.\n",
    "originalString = '15&9, _- 45:Hello/, _World346., Orla 1991.'\n",
    "\n",
    "# The pattern/regular expression to use on the above string.\n",
    "pattern =r'\\W+'\n",
    "# The new string using the re.sub() function\n",
    "newString = re.sub(pattern, '', originalString)\n",
    "print(newString)"
   ]
  },
  {
   "cell_type": "markdown",
   "id": "f9f1ead9",
   "metadata": {},
   "source": [
    "As can be seen from the``\\W`` formula above, the regular expression ``\\W`` doesn't touch the underscore as it doesn't match the underscore character. Consequently, I need a further regular expression to remove the underscore from the original string. Using the <a href=\"https://datascienceparichay.com/article/python-remove-leading-underscores-from-string/\" target=\"_top\">replace()</a> function, I replace the underscore ``_`` with ``''``."
   ]
  },
  {
   "cell_type": "code",
   "execution_count": null,
   "id": "6b10a5f6",
   "metadata": {},
   "outputs": [],
   "source": [
    "newString.replace('_', '')"
   ]
  },
  {
   "cell_type": "markdown",
   "id": "3980c4ae",
   "metadata": {},
   "source": [
    "### <font color=darkred>Exercise 2-Adapt Ian's code to capitalise the first letter of the iris species, using regular expressions.</font>\n",
    "***"
   ]
  },
  {
   "cell_type": "markdown",
   "id": "b0302f90",
   "metadata": {},
   "source": [
    "### <font color=darkred>Introduction</font>\n",
    "The aim of this exercise is to adapt code from <a href=\"https://github.com/ianmcloughlin/2223-S1-fund-data-analysis/blob/main/notebooks/05-cleansing.ipynb\" target=\"_top\">Ian McLoughlin's</a> Jupyter notebook to capatilse the first letter of the iris species, using regular expressions. \n",
    "***"
   ]
  },
  {
   "cell_type": "markdown",
   "id": "c64fd9c2",
   "metadata": {},
   "source": [
    "First, the Iris Dataset is read in using the <a href=\"https://docs.python.org/3/library/urllib.request.html\" target=\"_top\">urllib.request()</a> library to read in the URL."
   ]
  },
  {
   "cell_type": "code",
   "execution_count": 2,
   "id": "fa594126",
   "metadata": {},
   "outputs": [],
   "source": [
    "# https://stackoverflow.com/a/1393367\n",
    "\n",
    "import urllib.request\n",
    "\n",
    "url = r'https://archive.ics.uci.edu/ml/machine-learning-databases/iris/iris.data'\n",
    "\n",
    "iris = [line.decode('utf-8').strip() for line in urllib.request.urlopen(url)] #using .strip() to remove the new line character at the end of each line\n",
    "\n",
    "iris"
   ]
  },
  {
   "cell_type": "markdown",
   "id": "2634182b",
   "metadata": {},
   "source": [
    "Next, using the <a href=\"https://realpython.com/regex-python-part-2/\" target=\"_top\">re.compile()</a> library, I added the Regular expression ``([a-zA-Z])`` so that any letters either lower or uppercase were matched."
   ]
  },
  {
   "cell_type": "code",
   "execution_count": 7,
   "id": "63bd361f",
   "metadata": {},
   "outputs": [],
   "source": [
    "strip_iris = re.compile(r'([0-9]\\.[0-9]),([0-9]\\.[0-9]),([0-9]\\.[0-9]),([0-9]\\.[0-9]),Iris-([a-zA-Z])')"
   ]
  },
  {
   "cell_type": "markdown",
   "id": "8876ddc4",
   "metadata": {},
   "source": [
    "I tried numerous different ways to get the the regex to do what was asked of me but the below error **error: bad escape \\u at position 0** kept coming up. Unfortunately I was unable to find a solution to the error."
   ]
  },
  {
   "cell_type": "code",
   "execution_count": 6,
   "id": "a7feb56f",
   "metadata": {},
   "outputs": [
    {
     "ename": "error",
     "evalue": "bad escape \\u at position 0",
     "output_type": "error",
     "traceback": [
      "\u001b[1;31m---------------------------------------------------------------------------\u001b[0m",
      "\u001b[1;31mKeyError\u001b[0m                                  Traceback (most recent call last)",
      "File \u001b[1;32m~\\anaconda3\\lib\\sre_parse.py:1051\u001b[0m, in \u001b[0;36mparse_template\u001b[1;34m(source, state)\u001b[0m\n\u001b[0;32m   1050\u001b[0m \u001b[38;5;28;01mtry\u001b[39;00m:\n\u001b[1;32m-> 1051\u001b[0m     this \u001b[38;5;241m=\u001b[39m \u001b[38;5;28mchr\u001b[39m(\u001b[43mESCAPES\u001b[49m\u001b[43m[\u001b[49m\u001b[43mthis\u001b[49m\u001b[43m]\u001b[49m[\u001b[38;5;241m1\u001b[39m])\n\u001b[0;32m   1052\u001b[0m \u001b[38;5;28;01mexcept\u001b[39;00m \u001b[38;5;167;01mKeyError\u001b[39;00m:\n",
      "\u001b[1;31mKeyError\u001b[0m: '\\\\u'",
      "\nDuring handling of the above exception, another exception occurred:\n",
      "\u001b[1;31merror\u001b[0m                                     Traceback (most recent call last)",
      "Input \u001b[1;32mIn [6]\u001b[0m, in \u001b[0;36m<cell line: 1>\u001b[1;34m()\u001b[0m\n\u001b[1;32m----> 1\u001b[0m [strip_iris\u001b[38;5;241m.\u001b[39msub(\u001b[38;5;124mr\u001b[39m\u001b[38;5;124m'\u001b[39m\u001b[38;5;124m\\\u001b[39m\u001b[38;5;124mu\u001b[39m\u001b[38;5;124m'\u001b[39m, line) \u001b[38;5;28;01mfor\u001b[39;00m line \u001b[38;5;129;01min\u001b[39;00m iris \u001b[38;5;28;01mif\u001b[39;00m line]\n",
      "Input \u001b[1;32mIn [6]\u001b[0m, in \u001b[0;36m<listcomp>\u001b[1;34m(.0)\u001b[0m\n\u001b[1;32m----> 1\u001b[0m [\u001b[43mstrip_iris\u001b[49m\u001b[38;5;241;43m.\u001b[39;49m\u001b[43msub\u001b[49m\u001b[43m(\u001b[49m\u001b[38;5;124;43mr\u001b[39;49m\u001b[38;5;124;43m'\u001b[39;49m\u001b[38;5;124;43m\\\u001b[39;49m\u001b[38;5;124;43mu\u001b[39;49m\u001b[38;5;124;43m'\u001b[39;49m\u001b[43m,\u001b[49m\u001b[43m \u001b[49m\u001b[43mline\u001b[49m\u001b[43m)\u001b[49m \u001b[38;5;28;01mfor\u001b[39;00m line \u001b[38;5;129;01min\u001b[39;00m iris \u001b[38;5;28;01mif\u001b[39;00m line]\n",
      "File \u001b[1;32m~\\anaconda3\\lib\\re.py:327\u001b[0m, in \u001b[0;36m_subx\u001b[1;34m(pattern, template)\u001b[0m\n\u001b[0;32m    325\u001b[0m \u001b[38;5;28;01mdef\u001b[39;00m \u001b[38;5;21m_subx\u001b[39m(pattern, template):\n\u001b[0;32m    326\u001b[0m     \u001b[38;5;66;03m# internal: Pattern.sub/subn implementation helper\u001b[39;00m\n\u001b[1;32m--> 327\u001b[0m     template \u001b[38;5;241m=\u001b[39m \u001b[43m_compile_repl\u001b[49m\u001b[43m(\u001b[49m\u001b[43mtemplate\u001b[49m\u001b[43m,\u001b[49m\u001b[43m \u001b[49m\u001b[43mpattern\u001b[49m\u001b[43m)\u001b[49m\n\u001b[0;32m    328\u001b[0m     \u001b[38;5;28;01mif\u001b[39;00m \u001b[38;5;129;01mnot\u001b[39;00m template[\u001b[38;5;241m0\u001b[39m] \u001b[38;5;129;01mand\u001b[39;00m \u001b[38;5;28mlen\u001b[39m(template[\u001b[38;5;241m1\u001b[39m]) \u001b[38;5;241m==\u001b[39m \u001b[38;5;241m1\u001b[39m:\n\u001b[0;32m    329\u001b[0m         \u001b[38;5;66;03m# literal replacement\u001b[39;00m\n\u001b[0;32m    330\u001b[0m         \u001b[38;5;28;01mreturn\u001b[39;00m template[\u001b[38;5;241m1\u001b[39m][\u001b[38;5;241m0\u001b[39m]\n",
      "File \u001b[1;32m~\\anaconda3\\lib\\re.py:318\u001b[0m, in \u001b[0;36m_compile_repl\u001b[1;34m(repl, pattern)\u001b[0m\n\u001b[0;32m    315\u001b[0m \u001b[38;5;129m@functools\u001b[39m\u001b[38;5;241m.\u001b[39mlru_cache(_MAXCACHE)\n\u001b[0;32m    316\u001b[0m \u001b[38;5;28;01mdef\u001b[39;00m \u001b[38;5;21m_compile_repl\u001b[39m(repl, pattern):\n\u001b[0;32m    317\u001b[0m     \u001b[38;5;66;03m# internal: compile replacement pattern\u001b[39;00m\n\u001b[1;32m--> 318\u001b[0m     \u001b[38;5;28;01mreturn\u001b[39;00m \u001b[43msre_parse\u001b[49m\u001b[38;5;241;43m.\u001b[39;49m\u001b[43mparse_template\u001b[49m\u001b[43m(\u001b[49m\u001b[43mrepl\u001b[49m\u001b[43m,\u001b[49m\u001b[43m \u001b[49m\u001b[43mpattern\u001b[49m\u001b[43m)\u001b[49m\n",
      "File \u001b[1;32m~\\anaconda3\\lib\\sre_parse.py:1054\u001b[0m, in \u001b[0;36mparse_template\u001b[1;34m(source, state)\u001b[0m\n\u001b[0;32m   1052\u001b[0m         \u001b[38;5;28;01mexcept\u001b[39;00m \u001b[38;5;167;01mKeyError\u001b[39;00m:\n\u001b[0;32m   1053\u001b[0m             \u001b[38;5;28;01mif\u001b[39;00m c \u001b[38;5;129;01min\u001b[39;00m ASCIILETTERS:\n\u001b[1;32m-> 1054\u001b[0m                 \u001b[38;5;28;01mraise\u001b[39;00m s\u001b[38;5;241m.\u001b[39merror(\u001b[38;5;124m'\u001b[39m\u001b[38;5;124mbad escape \u001b[39m\u001b[38;5;132;01m%s\u001b[39;00m\u001b[38;5;124m'\u001b[39m \u001b[38;5;241m%\u001b[39m this, \u001b[38;5;28mlen\u001b[39m(this))\n\u001b[0;32m   1055\u001b[0m         lappend(this)\n\u001b[0;32m   1056\u001b[0m \u001b[38;5;28;01melse\u001b[39;00m:\n",
      "\u001b[1;31merror\u001b[0m: bad escape \\u at position 0"
     ]
    }
   ],
   "source": [
    "[strip_iris.sub(r'\\u', line) for line in iris if line]"
   ]
  },
  {
   "cell_type": "markdown",
   "id": "535e2832",
   "metadata": {},
   "source": [
    "### <font color=darkred>References</font>\n",
    "***\n",
    "\n",
    "1. Python Tutorial. (2022). https://www.pythontutorial.net/python-regex/python-regex-sub/\n",
    "\n",
    "\n",
    "2. Data Science Parichay. Python – Remove Leading Underscores From String. https://datascienceparichay.com/article/python-remove-leading-underscores-from-string/\n",
    "\n",
    "\n",
    "3. McLoughlin. I. (2022). 2223-S1-fund-data-analysis/notebooks/05-cleansing.ipynb. https://github.com/ianmcloughlin/2223-S1-fund-data-analysis/blob/main/notebooks/05-cleansing.ipynb\n",
    "\n",
    "\n",
    "4. Python. (2023). urllib.request — Extensible library for opening URLs. https://docs.python.org/3/library/urllib.request.html \n",
    "\n",
    "\n",
    "5. Sturtz. J. (2023). Regular Expressions: Regexes in Python (Part 2). https://realpython.com/regex-python-part-2/"
   ]
  },
  {
   "cell_type": "code",
   "execution_count": null,
   "id": "c1df751a",
   "metadata": {},
   "outputs": [],
   "source": []
  }
 ],
 "metadata": {
  "kernelspec": {
   "display_name": "Python 3 (ipykernel)",
   "language": "python",
   "name": "python3"
  },
  "language_info": {
   "codemirror_mode": {
    "name": "ipython",
    "version": 3
   },
   "file_extension": ".py",
   "mimetype": "text/x-python",
   "name": "python",
   "nbconvert_exporter": "python",
   "pygments_lexer": "ipython3",
   "version": "3.9.13"
  }
 },
 "nbformat": 4,
 "nbformat_minor": 5
}
