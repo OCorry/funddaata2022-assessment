{
 "cells": [
  {
   "cell_type": "markdown",
   "id": "5c10ef04",
   "metadata": {},
   "source": [
    "## <p style=\"text-align: center;\">Exercise 2: Explain why the log of zero is undefined \n",
    "\n",
    "A log is another way of writing an exponent. (Khan Academy, 2022). For example, log2 (a) = x then the exponent of it is 2^x  = a. Here, ‘x’ is the log of ‘a’ to the base 2. As an exponent, ‘a’ is the product of base 2 to the power of ‘x’ <p/>  \n",
    "<p> In order for a log to work, the base of the log  must be greater than one and the figure that you are getting the log (the exponent) of must be greater and equal to one (King, 2022), (Maths, 2018). <p/>\n",
    "Firstly, to show that the base must be greater than 1, see the below example with bases 0, 1 and 2, a power of x4 and an exponent of 16 as an example:\n",
    "Fig 1.1\n",
    "\n",
    "\n",
    "\n",
    "<p> Using Fig 1.1 above, in row (a), using 0 as the base in the log means that the number on the left side of the exponent (ie: 0) will be put to the power of x. 0 to the power of x will remain 0 regardless of the value of x so the base cannot be 0. <p/>\n",
    "<p>Similarly, in row (b) above, using 1 as the base in the log means that the number on the left side of the exponent (ie: 1) will be put to the power of x. 1 to the power of x will remain 1 regardless of the value of x so the base cannot be 1. <p/>\n",
    "<p>Finally, in row (c) above, using 2 as a base in the log means that the number on the left side of the exponent (ie:2), will be put to the power of x. 2 to the power of x will change depending on the value of x. In the above example, 23 equals to 16 so the base can be 2. <p/>\n",
    "Having established the above, we can now show why the log of 0 is undefined using examples with the same bases, 0, 1 and 2, a power of x^4 again and this time an exponent 0:\n",
    "Fig 1.2\n",
    "\n",
    "|*Log* \t         |*Exponent*|\n",
    "|:--------------:|:--------:|\n",
    "|(a) Log0(0) = x |  0^4 = 0 |\n",
    "|(b) Log1(0) = x |  1^4 ≠ 0 |\n",
    "|(c) Log2(0) = x |  2^4 ≠ 0 |\n",
    "\n",
    "\n",
    "\n",
    "<p>Looking at Fig 1.2 above, the only way that the log of 0 could be got is by using base 0. However, as established from Fig 1.1 above, it is not possible to have a base of 0. This is why the log of zero cannot be defined. <br>\n",
    "<br>\n",
    "    \n",
    "#### **Bibliography:**    \n",
    "\n",
    "\n",
    "- Khan Academy. (2022). Intro to Logarithms. Retrieved October 15, 2022, from Khan Academy: https://www.khanacademy.org/math/algebra2/x2ec2f6f830c9fb89:logs/x2ec2f6f830c9fb89:log-intro/a/intro-to-logarithms \n",
    "    \n",
    "    \n",
    "- King, K. (2022). Retrieved October 15, 2022, from Why cant Logarithms be negative?: https://www.kristakingmath.com/blog/why-cant-logarithms-be-negative \n",
    "    \n",
    "    \n",
    "- Maths, F. a. (2018, October 8). Fast and Easy Maths. Retrieved October 15, 2022, from YouTube: https://www.youtube.com/watch?v=j6scVL0Cp2k \n",
    "    \n",
    "\n",
    "- Cone, M. (2022). Markdown Guide. Retrieved October 16, 2022, from Basic Syntax: https://www.markdownguide.org/basic-syntax/\n",
    "    \n",
    "    \n",
    "- Markdown.Land. (2021, November 2). Markdown Center a Text, Image, Title, or Table. Retrieved October 16, 2022, from Markdown Land : https://markdown.land/markdown-center\n",
    "\n",
    "\n",
    "\n"
   ]
  },
  {
   "cell_type": "code",
   "execution_count": null,
   "id": "69e0cbf7",
   "metadata": {},
   "outputs": [],
   "source": []
  },
  {
   "cell_type": "code",
   "execution_count": null,
   "id": "f3ab40ab",
   "metadata": {},
   "outputs": [],
   "source": []
  }
 ],
 "metadata": {
  "kernelspec": {
   "display_name": "Python 3 (ipykernel)",
   "language": "python",
   "name": "python3"
  },
  "language_info": {
   "codemirror_mode": {
    "name": "ipython",
    "version": 3
   },
   "file_extension": ".py",
   "mimetype": "text/x-python",
   "name": "python",
   "nbconvert_exporter": "python",
   "pygments_lexer": "ipython3",
   "version": "3.9.13"
  }
 },
 "nbformat": 4,
 "nbformat_minor": 5
}
