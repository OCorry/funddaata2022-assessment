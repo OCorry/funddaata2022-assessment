{
 "cells": [
  {
   "cell_type": "markdown",
   "id": "6b2ece48",
   "metadata": {},
   "source": [
    "# <font color=darkred>Bias - Exercise 2</font>\n",
    "## <font color=darkred>Calculate the standard deviations of 2 lists of numbers.</font> \n",
    "***\n",
    "    \n",
    "## <font color=darkred>Introduction</font>\n",
    "The purpose of this exercise is to demonstrate that while the sum of 2 lists of numbers (and consequently the mean of the 2 lists of numbers) are the same, the standard deviation wont necessarily be the same due to the spread of the values in each list.\n",
    "***"
   ]
  },
  {
   "cell_type": "code",
   "execution_count": 5,
   "id": "020657a2",
   "metadata": {},
   "outputs": [],
   "source": [
    "# Importing the numpylibrary \n",
    "import numpy as np "
   ]
  },
  {
   "cell_type": "markdown",
   "id": "4073a779",
   "metadata": {},
   "source": [
    "<ins>**List 1**</ins>"
   ]
  },
  {
   "cell_type": "code",
   "execution_count": 15,
   "id": "c95e17a9",
   "metadata": {},
   "outputs": [],
   "source": [
    "list_1 = [1,1,1,1,10]"
   ]
  },
  {
   "cell_type": "code",
   "execution_count": 6,
   "id": "443b141d",
   "metadata": {},
   "outputs": [
    {
     "data": {
      "text/plain": [
       "14"
      ]
     },
     "execution_count": 6,
     "metadata": {},
     "output_type": "execute_result"
    }
   ],
   "source": [
    "np.sum(list_1)"
   ]
  },
  {
   "cell_type": "code",
   "execution_count": 7,
   "id": "d170cbe6",
   "metadata": {},
   "outputs": [
    {
     "data": {
      "text/plain": [
       "2.8"
      ]
     },
     "execution_count": 7,
     "metadata": {},
     "output_type": "execute_result"
    }
   ],
   "source": [
    "np.mean(list_1)"
   ]
  },
  {
   "cell_type": "code",
   "execution_count": 8,
   "id": "e4afa8eb",
   "metadata": {},
   "outputs": [
    {
     "data": {
      "text/plain": [
       "3.6"
      ]
     },
     "execution_count": 8,
     "metadata": {},
     "output_type": "execute_result"
    }
   ],
   "source": [
    "np.std(list_1)"
   ]
  },
  {
   "cell_type": "markdown",
   "id": "9023ee65",
   "metadata": {},
   "source": [
    "<ins>**List 2**</ins>"
   ]
  },
  {
   "cell_type": "code",
   "execution_count": 9,
   "id": "278dc7a4",
   "metadata": {},
   "outputs": [],
   "source": [
    "list_2 = [2,2,3,3,4]"
   ]
  },
  {
   "cell_type": "code",
   "execution_count": 10,
   "id": "bec49986",
   "metadata": {},
   "outputs": [
    {
     "data": {
      "text/plain": [
       "14"
      ]
     },
     "execution_count": 10,
     "metadata": {},
     "output_type": "execute_result"
    }
   ],
   "source": [
    "np.sum(list_2)"
   ]
  },
  {
   "cell_type": "code",
   "execution_count": 11,
   "id": "c30ec635",
   "metadata": {},
   "outputs": [
    {
     "data": {
      "text/plain": [
       "2.8"
      ]
     },
     "execution_count": 11,
     "metadata": {},
     "output_type": "execute_result"
    }
   ],
   "source": [
    "np.mean(list_2)"
   ]
  },
  {
   "cell_type": "code",
   "execution_count": 13,
   "id": "4962192c",
   "metadata": {},
   "outputs": [
    {
     "data": {
      "text/plain": [
       "0.7483314773547882"
      ]
     },
     "execution_count": 13,
     "metadata": {},
     "output_type": "execute_result"
    }
   ],
   "source": [
    "np.std(list_2)"
   ]
  }
 ],
 "metadata": {
  "kernelspec": {
   "display_name": "Python 3 (ipykernel)",
   "language": "python",
   "name": "python3"
  },
  "language_info": {
   "codemirror_mode": {
    "name": "ipython",
    "version": 3
   },
   "file_extension": ".py",
   "mimetype": "text/x-python",
   "name": "python",
   "nbconvert_exporter": "python",
   "pygments_lexer": "ipython3",
   "version": "3.9.13"
  }
 },
 "nbformat": 4,
 "nbformat_minor": 5
}
